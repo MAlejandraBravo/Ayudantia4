{
  "nbformat": 4,
  "nbformat_minor": 0,
  "metadata": {
    "colab": {
      "provenance": [],
      "machine_shape": "hm",
      "gpuType": "T4"
    },
    "kernelspec": {
      "name": "python3",
      "display_name": "Python 3"
    },
    "language_info": {
      "name": "python"
    },
    "accelerator": "GPU",
    "widgets": {
      "application/vnd.jupyter.widget-state+json": {
        "01b5cf5c09184914a89bc8cbb1bd9e82": {
          "model_module": "@jupyter-widgets/controls",
          "model_name": "HBoxModel",
          "model_module_version": "1.5.0",
          "state": {
            "_dom_classes": [],
            "_model_module": "@jupyter-widgets/controls",
            "_model_module_version": "1.5.0",
            "_model_name": "HBoxModel",
            "_view_count": null,
            "_view_module": "@jupyter-widgets/controls",
            "_view_module_version": "1.5.0",
            "_view_name": "HBoxView",
            "box_style": "",
            "children": [
              "IPY_MODEL_fef4ba82a84e48ba9659570f2f442572",
              "IPY_MODEL_6ee7ea683e4d4ea1a3b53d159423496a",
              "IPY_MODEL_16023495190242f7a096067dce024472"
            ],
            "layout": "IPY_MODEL_844cbec892354716bc1c683442c97d52"
          }
        },
        "fef4ba82a84e48ba9659570f2f442572": {
          "model_module": "@jupyter-widgets/controls",
          "model_name": "HTMLModel",
          "model_module_version": "1.5.0",
          "state": {
            "_dom_classes": [],
            "_model_module": "@jupyter-widgets/controls",
            "_model_module_version": "1.5.0",
            "_model_name": "HTMLModel",
            "_view_count": null,
            "_view_module": "@jupyter-widgets/controls",
            "_view_module_version": "1.5.0",
            "_view_name": "HTMLView",
            "description": "",
            "description_tooltip": null,
            "layout": "IPY_MODEL_67b4e54cf4d04e2dbb5f0804c0bb36df",
            "placeholder": "​",
            "style": "IPY_MODEL_b225b1bee04547708b4a38a88398d172",
            "value": "model.safetensors: 100%"
          }
        },
        "6ee7ea683e4d4ea1a3b53d159423496a": {
          "model_module": "@jupyter-widgets/controls",
          "model_name": "FloatProgressModel",
          "model_module_version": "1.5.0",
          "state": {
            "_dom_classes": [],
            "_model_module": "@jupyter-widgets/controls",
            "_model_module_version": "1.5.0",
            "_model_name": "FloatProgressModel",
            "_view_count": null,
            "_view_module": "@jupyter-widgets/controls",
            "_view_module_version": "1.5.0",
            "_view_name": "ProgressView",
            "bar_style": "success",
            "description": "",
            "description_tooltip": null,
            "layout": "IPY_MODEL_c537abf1ef9f4aa29af9b2a82f428a6c",
            "max": 553432986,
            "min": 0,
            "orientation": "horizontal",
            "style": "IPY_MODEL_f11ebe8d67704c8c8110c3e32723c4d0",
            "value": 553432986
          }
        },
        "16023495190242f7a096067dce024472": {
          "model_module": "@jupyter-widgets/controls",
          "model_name": "HTMLModel",
          "model_module_version": "1.5.0",
          "state": {
            "_dom_classes": [],
            "_model_module": "@jupyter-widgets/controls",
            "_model_module_version": "1.5.0",
            "_model_name": "HTMLModel",
            "_view_count": null,
            "_view_module": "@jupyter-widgets/controls",
            "_view_module_version": "1.5.0",
            "_view_name": "HTMLView",
            "description": "",
            "description_tooltip": null,
            "layout": "IPY_MODEL_8f0554137c8b451c9f0edb5d490e360e",
            "placeholder": "​",
            "style": "IPY_MODEL_01cf30cc23464071a56b3cb0fe42c6ca",
            "value": " 553M/553M [00:04&lt;00:00, 157MB/s]"
          }
        },
        "844cbec892354716bc1c683442c97d52": {
          "model_module": "@jupyter-widgets/base",
          "model_name": "LayoutModel",
          "model_module_version": "1.2.0",
          "state": {
            "_model_module": "@jupyter-widgets/base",
            "_model_module_version": "1.2.0",
            "_model_name": "LayoutModel",
            "_view_count": null,
            "_view_module": "@jupyter-widgets/base",
            "_view_module_version": "1.2.0",
            "_view_name": "LayoutView",
            "align_content": null,
            "align_items": null,
            "align_self": null,
            "border": null,
            "bottom": null,
            "display": null,
            "flex": null,
            "flex_flow": null,
            "grid_area": null,
            "grid_auto_columns": null,
            "grid_auto_flow": null,
            "grid_auto_rows": null,
            "grid_column": null,
            "grid_gap": null,
            "grid_row": null,
            "grid_template_areas": null,
            "grid_template_columns": null,
            "grid_template_rows": null,
            "height": null,
            "justify_content": null,
            "justify_items": null,
            "left": null,
            "margin": null,
            "max_height": null,
            "max_width": null,
            "min_height": null,
            "min_width": null,
            "object_fit": null,
            "object_position": null,
            "order": null,
            "overflow": null,
            "overflow_x": null,
            "overflow_y": null,
            "padding": null,
            "right": null,
            "top": null,
            "visibility": null,
            "width": null
          }
        },
        "67b4e54cf4d04e2dbb5f0804c0bb36df": {
          "model_module": "@jupyter-widgets/base",
          "model_name": "LayoutModel",
          "model_module_version": "1.2.0",
          "state": {
            "_model_module": "@jupyter-widgets/base",
            "_model_module_version": "1.2.0",
            "_model_name": "LayoutModel",
            "_view_count": null,
            "_view_module": "@jupyter-widgets/base",
            "_view_module_version": "1.2.0",
            "_view_name": "LayoutView",
            "align_content": null,
            "align_items": null,
            "align_self": null,
            "border": null,
            "bottom": null,
            "display": null,
            "flex": null,
            "flex_flow": null,
            "grid_area": null,
            "grid_auto_columns": null,
            "grid_auto_flow": null,
            "grid_auto_rows": null,
            "grid_column": null,
            "grid_gap": null,
            "grid_row": null,
            "grid_template_areas": null,
            "grid_template_columns": null,
            "grid_template_rows": null,
            "height": null,
            "justify_content": null,
            "justify_items": null,
            "left": null,
            "margin": null,
            "max_height": null,
            "max_width": null,
            "min_height": null,
            "min_width": null,
            "object_fit": null,
            "object_position": null,
            "order": null,
            "overflow": null,
            "overflow_x": null,
            "overflow_y": null,
            "padding": null,
            "right": null,
            "top": null,
            "visibility": null,
            "width": null
          }
        },
        "b225b1bee04547708b4a38a88398d172": {
          "model_module": "@jupyter-widgets/controls",
          "model_name": "DescriptionStyleModel",
          "model_module_version": "1.5.0",
          "state": {
            "_model_module": "@jupyter-widgets/controls",
            "_model_module_version": "1.5.0",
            "_model_name": "DescriptionStyleModel",
            "_view_count": null,
            "_view_module": "@jupyter-widgets/base",
            "_view_module_version": "1.2.0",
            "_view_name": "StyleView",
            "description_width": ""
          }
        },
        "c537abf1ef9f4aa29af9b2a82f428a6c": {
          "model_module": "@jupyter-widgets/base",
          "model_name": "LayoutModel",
          "model_module_version": "1.2.0",
          "state": {
            "_model_module": "@jupyter-widgets/base",
            "_model_module_version": "1.2.0",
            "_model_name": "LayoutModel",
            "_view_count": null,
            "_view_module": "@jupyter-widgets/base",
            "_view_module_version": "1.2.0",
            "_view_name": "LayoutView",
            "align_content": null,
            "align_items": null,
            "align_self": null,
            "border": null,
            "bottom": null,
            "display": null,
            "flex": null,
            "flex_flow": null,
            "grid_area": null,
            "grid_auto_columns": null,
            "grid_auto_flow": null,
            "grid_auto_rows": null,
            "grid_column": null,
            "grid_gap": null,
            "grid_row": null,
            "grid_template_areas": null,
            "grid_template_columns": null,
            "grid_template_rows": null,
            "height": null,
            "justify_content": null,
            "justify_items": null,
            "left": null,
            "margin": null,
            "max_height": null,
            "max_width": null,
            "min_height": null,
            "min_width": null,
            "object_fit": null,
            "object_position": null,
            "order": null,
            "overflow": null,
            "overflow_x": null,
            "overflow_y": null,
            "padding": null,
            "right": null,
            "top": null,
            "visibility": null,
            "width": null
          }
        },
        "f11ebe8d67704c8c8110c3e32723c4d0": {
          "model_module": "@jupyter-widgets/controls",
          "model_name": "ProgressStyleModel",
          "model_module_version": "1.5.0",
          "state": {
            "_model_module": "@jupyter-widgets/controls",
            "_model_module_version": "1.5.0",
            "_model_name": "ProgressStyleModel",
            "_view_count": null,
            "_view_module": "@jupyter-widgets/base",
            "_view_module_version": "1.2.0",
            "_view_name": "StyleView",
            "bar_color": null,
            "description_width": ""
          }
        },
        "8f0554137c8b451c9f0edb5d490e360e": {
          "model_module": "@jupyter-widgets/base",
          "model_name": "LayoutModel",
          "model_module_version": "1.2.0",
          "state": {
            "_model_module": "@jupyter-widgets/base",
            "_model_module_version": "1.2.0",
            "_model_name": "LayoutModel",
            "_view_count": null,
            "_view_module": "@jupyter-widgets/base",
            "_view_module_version": "1.2.0",
            "_view_name": "LayoutView",
            "align_content": null,
            "align_items": null,
            "align_self": null,
            "border": null,
            "bottom": null,
            "display": null,
            "flex": null,
            "flex_flow": null,
            "grid_area": null,
            "grid_auto_columns": null,
            "grid_auto_flow": null,
            "grid_auto_rows": null,
            "grid_column": null,
            "grid_gap": null,
            "grid_row": null,
            "grid_template_areas": null,
            "grid_template_columns": null,
            "grid_template_rows": null,
            "height": null,
            "justify_content": null,
            "justify_items": null,
            "left": null,
            "margin": null,
            "max_height": null,
            "max_width": null,
            "min_height": null,
            "min_width": null,
            "object_fit": null,
            "object_position": null,
            "order": null,
            "overflow": null,
            "overflow_x": null,
            "overflow_y": null,
            "padding": null,
            "right": null,
            "top": null,
            "visibility": null,
            "width": null
          }
        },
        "01cf30cc23464071a56b3cb0fe42c6ca": {
          "model_module": "@jupyter-widgets/controls",
          "model_name": "DescriptionStyleModel",
          "model_module_version": "1.5.0",
          "state": {
            "_model_module": "@jupyter-widgets/controls",
            "_model_module_version": "1.5.0",
            "_model_name": "DescriptionStyleModel",
            "_view_count": null,
            "_view_module": "@jupyter-widgets/base",
            "_view_module_version": "1.2.0",
            "_view_name": "StyleView",
            "description_width": ""
          }
        }
      }
    }
  },
  "cells": [
    {
      "cell_type": "markdown",
      "source": [
        "# Transfer Learning\n",
        "\n",
        "El **Transfer Learning** es un paradigma que utiliza el conocimiento de un *dominio de origen* (source) para beneficiar a un *dominio de destino* (target) relacionado. Proporciona una alternativa para utilizar un modelo previamente aprendido en nuevos dominios, en lugar de construir un modelo completamente nuevo.\n",
        "\n",
        "Existen diferentes categorías de Transfer Learning, siendo el *\"fine-tuning\"* una de las más populares. En este enfoque, se utiliza un modelo preentrenado, comúnmente entrenado con datos genéricos (por ejemplo, una CNN entrenada con el conjunto de datos ImageNet), que luego se ajusta para resolver un problema específico en el dominio de destino. Este enfoque aborda la dificultad de entrenar un modelo completamente desde cero, especialmente cuando el conjunto de datos etiquetados es pequeño, lo que complica el entrenamiento de arquitecturas con un gran número de parámetros, como las CNN.\n",
        "\n",
        "Para aprovechar el conocimiento de redes pre-entrenadas basadas en arquitecturas de CNN, hay dos enfoques principales:\n",
        "\n",
        "* **Full Fine-Tuning:** se entrenan todas las capas de la arquitectura preentrenada, incluidas las capas convolucionales y la parte *fully connected*.\n",
        "\n",
        "* **Feature extraction:** En este enfoque, solo se utilizan las características aprendidas por el modelo preentrenado, lo que implica congelar los parámetros del backbone preentrenado (es decir, estos no se actualizan). Para lograrlo, se congelan las capas convolucionales (**Freezing Layers**) durante el entrenamiento, y únicamente se entrena la parte *fully connected*.\n",
        "\n",
        "* **Fine-tuning parcial:** solo se entrenan algunas capas convolucionales, junto con la parte *fully connected*."
      ],
      "metadata": {
        "id": "WTBux6pA5x2S"
      }
    },
    {
      "cell_type": "code",
      "execution_count": null,
      "metadata": {
        "colab": {
          "base_uri": "https://localhost:8080/"
        },
        "id": "G-OQH4_f8jXT",
        "outputId": "ec544712-2641-417c-e1aa-e0489e48a0a6"
      },
      "outputs": [
        {
          "output_type": "stream",
          "name": "stdout",
          "text": [
            "Requirement already satisfied: torchmetrics in /usr/local/lib/python3.10/dist-packages (1.5.1)\n",
            "Requirement already satisfied: numpy<2.0,>1.20.0 in /usr/local/lib/python3.10/dist-packages (from torchmetrics) (1.26.4)\n",
            "Requirement already satisfied: packaging>17.1 in /usr/local/lib/python3.10/dist-packages (from torchmetrics) (24.1)\n",
            "Requirement already satisfied: torch>=1.10.0 in /usr/local/lib/python3.10/dist-packages (from torchmetrics) (2.4.1+cu121)\n",
            "Requirement already satisfied: lightning-utilities>=0.8.0 in /usr/local/lib/python3.10/dist-packages (from torchmetrics) (0.11.8)\n",
            "Requirement already satisfied: setuptools in /usr/local/lib/python3.10/dist-packages (from lightning-utilities>=0.8.0->torchmetrics) (71.0.4)\n",
            "Requirement already satisfied: typing-extensions in /usr/local/lib/python3.10/dist-packages (from lightning-utilities>=0.8.0->torchmetrics) (4.12.2)\n",
            "Requirement already satisfied: filelock in /usr/local/lib/python3.10/dist-packages (from torch>=1.10.0->torchmetrics) (3.16.1)\n",
            "Requirement already satisfied: sympy in /usr/local/lib/python3.10/dist-packages (from torch>=1.10.0->torchmetrics) (1.13.3)\n",
            "Requirement already satisfied: networkx in /usr/local/lib/python3.10/dist-packages (from torch>=1.10.0->torchmetrics) (3.3)\n",
            "Requirement already satisfied: jinja2 in /usr/local/lib/python3.10/dist-packages (from torch>=1.10.0->torchmetrics) (3.1.4)\n",
            "Requirement already satisfied: fsspec in /usr/local/lib/python3.10/dist-packages (from torch>=1.10.0->torchmetrics) (2024.6.1)\n",
            "Requirement already satisfied: MarkupSafe>=2.0 in /usr/local/lib/python3.10/dist-packages (from jinja2->torch>=1.10.0->torchmetrics) (2.1.5)\n",
            "Requirement already satisfied: mpmath<1.4,>=1.1.0 in /usr/local/lib/python3.10/dist-packages (from sympy->torch>=1.10.0->torchmetrics) (1.3.0)\n"
          ]
        }
      ],
      "source": [
        "pip install torchmetrics"
      ]
    },
    {
      "cell_type": "code",
      "source": [
        "pip install torchinfo"
      ],
      "metadata": {
        "colab": {
          "base_uri": "https://localhost:8080/"
        },
        "id": "wTbkwTCU9A2D",
        "outputId": "92884a7c-e590-4646-953d-abf8563bda8a"
      },
      "execution_count": null,
      "outputs": [
        {
          "output_type": "stream",
          "name": "stdout",
          "text": [
            "Requirement already satisfied: torchinfo in /usr/local/lib/python3.10/dist-packages (1.8.0)\n"
          ]
        }
      ]
    },
    {
      "cell_type": "code",
      "source": [
        "pip install timm"
      ],
      "metadata": {
        "colab": {
          "base_uri": "https://localhost:8080/"
        },
        "id": "bGHprFZPV0VL",
        "outputId": "45a095ca-1fbf-43a3-befb-1162baf215a0"
      },
      "execution_count": null,
      "outputs": [
        {
          "output_type": "stream",
          "name": "stdout",
          "text": [
            "Requirement already satisfied: timm in /usr/local/lib/python3.10/dist-packages (1.0.11)\n",
            "Requirement already satisfied: torch in /usr/local/lib/python3.10/dist-packages (from timm) (2.4.1+cu121)\n",
            "Requirement already satisfied: torchvision in /usr/local/lib/python3.10/dist-packages (from timm) (0.19.1+cu121)\n",
            "Requirement already satisfied: pyyaml in /usr/local/lib/python3.10/dist-packages (from timm) (6.0.2)\n",
            "Requirement already satisfied: huggingface_hub in /usr/local/lib/python3.10/dist-packages (from timm) (0.24.7)\n",
            "Requirement already satisfied: safetensors in /usr/local/lib/python3.10/dist-packages (from timm) (0.4.5)\n",
            "Requirement already satisfied: filelock in /usr/local/lib/python3.10/dist-packages (from huggingface_hub->timm) (3.16.1)\n",
            "Requirement already satisfied: fsspec>=2023.5.0 in /usr/local/lib/python3.10/dist-packages (from huggingface_hub->timm) (2024.6.1)\n",
            "Requirement already satisfied: packaging>=20.9 in /usr/local/lib/python3.10/dist-packages (from huggingface_hub->timm) (24.1)\n",
            "Requirement already satisfied: requests in /usr/local/lib/python3.10/dist-packages (from huggingface_hub->timm) (2.32.3)\n",
            "Requirement already satisfied: tqdm>=4.42.1 in /usr/local/lib/python3.10/dist-packages (from huggingface_hub->timm) (4.66.5)\n",
            "Requirement already satisfied: typing-extensions>=3.7.4.3 in /usr/local/lib/python3.10/dist-packages (from huggingface_hub->timm) (4.12.2)\n",
            "Requirement already satisfied: sympy in /usr/local/lib/python3.10/dist-packages (from torch->timm) (1.13.3)\n",
            "Requirement already satisfied: networkx in /usr/local/lib/python3.10/dist-packages (from torch->timm) (3.3)\n",
            "Requirement already satisfied: jinja2 in /usr/local/lib/python3.10/dist-packages (from torch->timm) (3.1.4)\n",
            "Requirement already satisfied: numpy in /usr/local/lib/python3.10/dist-packages (from torchvision->timm) (1.26.4)\n",
            "Requirement already satisfied: pillow!=8.3.*,>=5.3.0 in /usr/local/lib/python3.10/dist-packages (from torchvision->timm) (10.4.0)\n",
            "Requirement already satisfied: MarkupSafe>=2.0 in /usr/local/lib/python3.10/dist-packages (from jinja2->torch->timm) (2.1.5)\n",
            "Requirement already satisfied: charset-normalizer<4,>=2 in /usr/local/lib/python3.10/dist-packages (from requests->huggingface_hub->timm) (3.3.2)\n",
            "Requirement already satisfied: idna<4,>=2.5 in /usr/local/lib/python3.10/dist-packages (from requests->huggingface_hub->timm) (3.10)\n",
            "Requirement already satisfied: urllib3<3,>=1.21.1 in /usr/local/lib/python3.10/dist-packages (from requests->huggingface_hub->timm) (2.2.3)\n",
            "Requirement already satisfied: certifi>=2017.4.17 in /usr/local/lib/python3.10/dist-packages (from requests->huggingface_hub->timm) (2024.8.30)\n",
            "Requirement already satisfied: mpmath<1.4,>=1.1.0 in /usr/local/lib/python3.10/dist-packages (from sympy->torch->timm) (1.3.0)\n"
          ]
        }
      ]
    },
    {
      "cell_type": "code",
      "source": [
        "from torchvision.datasets import ImageFolder\n",
        "import albumentations as A\n",
        "from albumentations.pytorch.transforms import ToTensorV2\n",
        "import numpy as np\n",
        "import matplotlib.pyplot as plt\n",
        "from PIL import Image\n",
        "import torch\n",
        "import torch.nn as nn\n",
        "from torch.utils.data import DataLoader\n",
        "import torchmetrics\n",
        "import time\n",
        "from torchinfo import summary\n",
        "import torchvision\n",
        "from torchvision.models import list_models\n",
        "import timm\n",
        "import os\n",
        "import torchinfo\n",
        "torch.manual_seed(0)\n",
        "torch.cuda.manual_seed(0)\n",
        "os.environ[\"PYTORCH_CUDA_ALLOC_CONF\"] = \"expandable_segments:True\""
      ],
      "metadata": {
        "colab": {
          "base_uri": "https://localhost:8080/"
        },
        "id": "sXp3gNHt9A5w",
        "outputId": "7be31322-1a36-4e62-b4f8-a917157ca932"
      },
      "execution_count": null,
      "outputs": [
        {
          "output_type": "stream",
          "name": "stderr",
          "text": [
            "/usr/local/lib/python3.10/dist-packages/albumentations/__init__.py:13: UserWarning: A new version of Albumentations is available: 1.4.21 (you have 1.4.15). Upgrade using: pip install -U albumentations. To disable automatic update checks, set the environment variable NO_ALBUMENTATIONS_UPDATE to 1.\n",
            "  check_for_updates()\n"
          ]
        }
      ]
    },
    {
      "cell_type": "code",
      "source": [
        "class Transforms:\n",
        "    def __init__(self, transform: A.Compose):\n",
        "        self.transform = transform\n",
        "\n",
        "    def __call__(self, image):\n",
        "        image = np.array(image)\n",
        "        return self.transform(image=image)[\"image\"]\n",
        "\n",
        "\n",
        "train_transforms = A.Compose(\n",
        "    [A.Resize(256, 256), A.ToFloat(), ToTensorV2()]\n",
        ")\n",
        "validation_transforms = A.Compose(\n",
        "    [A.Resize(256, 256), A.ToFloat(), ToTensorV2()]\n",
        ")"
      ],
      "metadata": {
        "id": "cHLKl53F9A8m"
      },
      "execution_count": null,
      "outputs": []
    },
    {
      "cell_type": "code",
      "source": [
        "from google.colab import drive\n",
        "\n",
        "drive.mount('/content/drive')"
      ],
      "metadata": {
        "colab": {
          "base_uri": "https://localhost:8080/"
        },
        "id": "DnphpUEa9A_2",
        "outputId": "bc00bb38-349e-48cc-aea6-f7acb765ece1"
      },
      "execution_count": null,
      "outputs": [
        {
          "output_type": "stream",
          "name": "stdout",
          "text": [
            "Drive already mounted at /content/drive; to attempt to forcibly remount, call drive.mount(\"/content/drive\", force_remount=True).\n"
          ]
        }
      ]
    },
    {
      "cell_type": "code",
      "source": [
        "train_data = ImageFolder(\n",
        "    \"drive/MyDrive/monkey/training\",\n",
        "    transform=Transforms(train_transforms),\n",
        ")\n",
        "validation_data = ImageFolder(\n",
        "    \"drive/MyDrive/monkey/validation\",\n",
        "    transform=Transforms(validation_transforms),\n",
        ")\n",
        "\n",
        "print(f\"Elementos en Entrenamiento: {len(train_data)}\")\n",
        "print(f\"Elementos en Validación: {len(validation_data)}\")"
      ],
      "metadata": {
        "colab": {
          "base_uri": "https://localhost:8080/"
        },
        "id": "ZZhrIQef9JPs",
        "outputId": "c33ed75a-3aac-4af7-823d-2a40c514bcd9"
      },
      "execution_count": null,
      "outputs": [
        {
          "output_type": "stream",
          "name": "stdout",
          "text": [
            "Elementos en Entrenamiento: 1097\n",
            "Elementos en Validación: 272\n"
          ]
        }
      ]
    },
    {
      "cell_type": "code",
      "source": [
        "#Una pequeña muestra de datos de test a partir de los datos de validación\n",
        "from torch.utils.data import random_split\n",
        "# Calcular el tamaño del 20% del conjunto de validación\n",
        "test_size = int(0.2 * len(validation_data))\n",
        "validation_size = len(validation_data) - test_size\n",
        "\n",
        "# Dividir el conjunto de validación en validación (80%) y prueba (20%)\n",
        "validation_data, test_data = random_split(validation_data, [validation_size, test_size])\n",
        "\n",
        "# Imprimir el tamaño de cada subconjunto\n",
        "print(f\"Elementos en Entrenamiento: {len(train_data)}\")\n",
        "print(f\"Elementos en Validación: {len(validation_data)}\")\n",
        "print(f\"Elementos en Prueba: {len(test_data)}\")"
      ],
      "metadata": {
        "colab": {
          "base_uri": "https://localhost:8080/"
        },
        "id": "2Qubg8bA9JV2",
        "outputId": "ff84a0ac-01e9-435b-c8c2-847a7597ce02"
      },
      "execution_count": null,
      "outputs": [
        {
          "output_type": "stream",
          "name": "stdout",
          "text": [
            "Elementos en Entrenamiento: 1097\n",
            "Elementos en Validación: 218\n",
            "Elementos en Prueba: 54\n"
          ]
        }
      ]
    },
    {
      "cell_type": "code",
      "source": [
        "device = torch.device(\"cuda\" if torch.cuda.is_available() else \"cpu\")"
      ],
      "metadata": {
        "id": "UrTti5969JYx"
      },
      "execution_count": null,
      "outputs": []
    },
    {
      "cell_type": "markdown",
      "source": [
        "**VGG16**\n",
        "\n",
        "![Descripción de la imagen](https://drive.google.com/uc?export=view&id=167YiD4u4KQ52oZ135DwS_Oif6pIVL0Nb)\n"
      ],
      "metadata": {
        "id": "QJnqrOKUCyN2"
      }
    },
    {
      "cell_type": "code",
      "source": [
        "class VGG16FineTuneInter(nn.Module):\n",
        "    def __init__(self, num_classes=10):\n",
        "        super(VGG16FineTuneInter, self).__init__()\n",
        "        self.num_classes = num_classes\n",
        "\n",
        "        # Cargar VGG16 preentrenado de timm sin la capa de clasificación\n",
        "        self.backbone = timm.create_model('vgg16', pretrained=True, num_classes=0)\n",
        "\n",
        "        # Congelar todas las capas primero\n",
        "        for param in self.backbone.parameters():\n",
        "            param.requires_grad = False\n",
        "\n",
        "        # Liberar los bloques, últimos bloques\n",
        "        for layer in [self.backbone.features[17], self.backbone.features[24]]:\n",
        "            for param in layer.parameters():\n",
        "                param.requires_grad = True\n",
        "\n",
        "        # Capas finales de clasificación\n",
        "        self.fc_layers = nn.Sequential(\n",
        "            nn.LazyLinear(512),\n",
        "            nn.Linear(512, self.num_classes)\n",
        "        )\n",
        "\n",
        "    def forward(self, x):\n",
        "        x = self.backbone(x)\n",
        "        x = self.fc_layers(x)\n",
        "        return x"
      ],
      "metadata": {
        "id": "X51L7wLi9QsS"
      },
      "execution_count": null,
      "outputs": []
    },
    {
      "cell_type": "code",
      "source": [
        "# Instanciar el modelo\n",
        "model = VGG16FineTuneInter(num_classes=10)\n",
        "torchinfo.summary(model,input_size=(1, 3, 224, 224))"
      ],
      "metadata": {
        "colab": {
          "base_uri": "https://localhost:8080/",
          "height": 1000,
          "referenced_widgets": [
            "01b5cf5c09184914a89bc8cbb1bd9e82",
            "fef4ba82a84e48ba9659570f2f442572",
            "6ee7ea683e4d4ea1a3b53d159423496a",
            "16023495190242f7a096067dce024472",
            "844cbec892354716bc1c683442c97d52",
            "67b4e54cf4d04e2dbb5f0804c0bb36df",
            "b225b1bee04547708b4a38a88398d172",
            "c537abf1ef9f4aa29af9b2a82f428a6c",
            "f11ebe8d67704c8c8110c3e32723c4d0",
            "8f0554137c8b451c9f0edb5d490e360e",
            "01cf30cc23464071a56b3cb0fe42c6ca"
          ]
        },
        "id": "QvxJFY6u9QyA",
        "outputId": "3f71f6f2-9d61-496b-e4b3-712ecee5a357"
      },
      "execution_count": null,
      "outputs": [
        {
          "output_type": "stream",
          "name": "stderr",
          "text": [
            "/usr/local/lib/python3.10/dist-packages/huggingface_hub/utils/_token.py:89: UserWarning: \n",
            "The secret `HF_TOKEN` does not exist in your Colab secrets.\n",
            "To authenticate with the Hugging Face Hub, create a token in your settings tab (https://huggingface.co/settings/tokens), set it as secret in your Google Colab and restart your session.\n",
            "You will be able to reuse this secret in all of your notebooks.\n",
            "Please note that authentication is recommended but still optional to access public models or datasets.\n",
            "  warnings.warn(\n"
          ]
        },
        {
          "output_type": "display_data",
          "data": {
            "text/plain": [
              "model.safetensors:   0%|          | 0.00/553M [00:00<?, ?B/s]"
            ],
            "application/vnd.jupyter.widget-view+json": {
              "version_major": 2,
              "version_minor": 0,
              "model_id": "01b5cf5c09184914a89bc8cbb1bd9e82"
            }
          },
          "metadata": {}
        },
        {
          "output_type": "execute_result",
          "data": {
            "text/plain": [
              "===============================================================================================\n",
              "Layer (type:depth-idx)                        Output Shape              Param #\n",
              "===============================================================================================\n",
              "VGG16FineTuneInter                            [1, 10]                   --\n",
              "├─VGG: 1-1                                    [1, 4096]                 --\n",
              "│    └─Sequential: 2-1                        [1, 512, 7, 7]            --\n",
              "│    │    └─Conv2d: 3-1                       [1, 64, 224, 224]         (1,792)\n",
              "│    │    └─ReLU: 3-2                         [1, 64, 224, 224]         --\n",
              "│    │    └─Conv2d: 3-3                       [1, 64, 224, 224]         (36,928)\n",
              "│    │    └─ReLU: 3-4                         [1, 64, 224, 224]         --\n",
              "│    │    └─MaxPool2d: 3-5                    [1, 64, 112, 112]         --\n",
              "│    │    └─Conv2d: 3-6                       [1, 128, 112, 112]        (73,856)\n",
              "│    │    └─ReLU: 3-7                         [1, 128, 112, 112]        --\n",
              "│    │    └─Conv2d: 3-8                       [1, 128, 112, 112]        (147,584)\n",
              "│    │    └─ReLU: 3-9                         [1, 128, 112, 112]        --\n",
              "│    │    └─MaxPool2d: 3-10                   [1, 128, 56, 56]          --\n",
              "│    │    └─Conv2d: 3-11                      [1, 256, 56, 56]          (295,168)\n",
              "│    │    └─ReLU: 3-12                        [1, 256, 56, 56]          --\n",
              "│    │    └─Conv2d: 3-13                      [1, 256, 56, 56]          (590,080)\n",
              "│    │    └─ReLU: 3-14                        [1, 256, 56, 56]          --\n",
              "│    │    └─Conv2d: 3-15                      [1, 256, 56, 56]          (590,080)\n",
              "│    │    └─ReLU: 3-16                        [1, 256, 56, 56]          --\n",
              "│    │    └─MaxPool2d: 3-17                   [1, 256, 28, 28]          --\n",
              "│    │    └─Conv2d: 3-18                      [1, 512, 28, 28]          1,180,160\n",
              "│    │    └─ReLU: 3-19                        [1, 512, 28, 28]          --\n",
              "│    │    └─Conv2d: 3-20                      [1, 512, 28, 28]          (2,359,808)\n",
              "│    │    └─ReLU: 3-21                        [1, 512, 28, 28]          --\n",
              "│    │    └─Conv2d: 3-22                      [1, 512, 28, 28]          (2,359,808)\n",
              "│    │    └─ReLU: 3-23                        [1, 512, 28, 28]          --\n",
              "│    │    └─MaxPool2d: 3-24                   [1, 512, 14, 14]          --\n",
              "│    │    └─Conv2d: 3-25                      [1, 512, 14, 14]          2,359,808\n",
              "│    │    └─ReLU: 3-26                        [1, 512, 14, 14]          --\n",
              "│    │    └─Conv2d: 3-27                      [1, 512, 14, 14]          (2,359,808)\n",
              "│    │    └─ReLU: 3-28                        [1, 512, 14, 14]          --\n",
              "│    │    └─Conv2d: 3-29                      [1, 512, 14, 14]          (2,359,808)\n",
              "│    │    └─ReLU: 3-30                        [1, 512, 14, 14]          --\n",
              "│    │    └─MaxPool2d: 3-31                   [1, 512, 7, 7]            --\n",
              "│    └─ConvMlp: 2-2                           [1, 4096, 1, 1]           --\n",
              "│    │    └─Conv2d: 3-32                      [1, 4096, 1, 1]           (102,764,544)\n",
              "│    │    └─ReLU: 3-33                        [1, 4096, 1, 1]           --\n",
              "│    │    └─Dropout: 3-34                     [1, 4096, 1, 1]           --\n",
              "│    │    └─Conv2d: 3-35                      [1, 4096, 1, 1]           (16,781,312)\n",
              "│    │    └─ReLU: 3-36                        [1, 4096, 1, 1]           --\n",
              "│    └─ClassifierHead: 2-3                    [1, 4096]                 --\n",
              "│    │    └─SelectAdaptivePool2d: 3-37        [1, 4096]                 --\n",
              "│    │    └─Dropout: 3-38                     [1, 4096]                 --\n",
              "│    │    └─Identity: 3-39                    [1, 4096]                 --\n",
              "│    │    └─Identity: 3-40                    [1, 4096]                 --\n",
              "├─Sequential: 1-2                             [1, 10]                   --\n",
              "│    └─Linear: 2-4                            [1, 512]                  2,097,664\n",
              "│    └─Linear: 2-5                            [1, 10]                   5,130\n",
              "===============================================================================================\n",
              "Total params: 136,363,338\n",
              "Trainable params: 5,642,762\n",
              "Non-trainable params: 130,720,576\n",
              "Total mult-adds (G): 15.48\n",
              "===============================================================================================\n",
              "Input size (MB): 0.60\n",
              "Forward/backward pass size (MB): 108.45\n",
              "Params size (MB): 545.45\n",
              "Estimated Total Size (MB): 654.51\n",
              "==============================================================================================="
            ]
          },
          "metadata": {},
          "execution_count": 11
        }
      ]
    },
    {
      "cell_type": "code",
      "source": [
        "# Definir las métricas\n",
        "train_metric = torchmetrics.F1Score(task=\"multiclass\", num_classes=10, average=\"macro\").to(device)\n",
        "val_metric = torchmetrics.F1Score(task=\"multiclass\", num_classes=10, average=\"macro\").to(device)"
      ],
      "metadata": {
        "id": "_KvqPeXN9Q06"
      },
      "execution_count": null,
      "outputs": []
    },
    {
      "cell_type": "code",
      "source": [
        "def train_model(\n",
        "    train_data,\n",
        "    val_data,\n",
        "    model,\n",
        "    training_params,\n",
        "    criterion=nn.CrossEntropyLoss(),\n",
        "):\n",
        "    print(f\"Using device: {device}\")\n",
        "    model.to(device)\n",
        "    optimizer = torch.optim.Adam(\n",
        "        model.parameters(),\n",
        "        lr=training_params[\"learning_rate\"],\n",
        "    )\n",
        "\n",
        "    train_dataloader = DataLoader(\n",
        "        train_data,\n",
        "        batch_size=training_params[\"batch_size\"],\n",
        "        shuffle=True,\n",
        "        num_workers=2,\n",
        "        pin_memory=True,\n",
        "    )\n",
        "    val_dataloader = DataLoader(\n",
        "        val_data,\n",
        "        batch_size=training_params[\"batch_size\"],\n",
        "        shuffle=False,\n",
        "        num_workers=2,\n",
        "        pin_memory=True,\n",
        "    )\n",
        "\n",
        "    train_loss = []\n",
        "    val_loss = []\n",
        "\n",
        "    # Configuración para el early stopping\n",
        "    early_stopping_patience = 10  # Número de épocas sin mejora antes de detener el entrenamiento\n",
        "    best_val_loss = float('inf')\n",
        "    patience_counter = 0\n",
        "\n",
        "    # Directorio para guardar los checkpoints\n",
        "    checkpoint_dir = 'checkpoints'\n",
        "    os.makedirs(checkpoint_dir, exist_ok=True)\n",
        "\n",
        "    for e in range(training_params[\"num_epochs\"]):\n",
        "        start_time = time.time()\n",
        "        train_batch_loss = []\n",
        "        val_batch_loss = []\n",
        "        model.train()\n",
        "\n",
        "        for batch in train_dataloader:\n",
        "            X, y = batch\n",
        "            X, y = X.to(device), y.to(device)\n",
        "\n",
        "            optimizer.zero_grad()\n",
        "            y_hat = model(X)\n",
        "            loss = criterion(y_hat, y)\n",
        "            loss.backward()\n",
        "            optimizer.step()\n",
        "            tr_acc = train_metric(y_hat, y)\n",
        "            train_batch_loss.append(loss.item())\n",
        "\n",
        "        tr_acc = train_metric.compute()\n",
        "        train_epoch_loss = np.mean(train_batch_loss)\n",
        "\n",
        "        model.eval()\n",
        "        with torch.no_grad():\n",
        "            for batch in val_dataloader:\n",
        "                X, y = batch\n",
        "                X, y = X.to(device), y.to(device)\n",
        "\n",
        "                y_hat = model(X)\n",
        "                loss = criterion(y_hat, y)\n",
        "                val_acc = val_metric(y_hat, y)\n",
        "                val_batch_loss.append(loss.item())\n",
        "\n",
        "        val_acc = val_metric.compute()\n",
        "        val_epoch_loss = np.mean(val_batch_loss)\n",
        "\n",
        "        end_time = time.time()\n",
        "        elapsed_time = end_time - start_time\n",
        "        print(\n",
        "            f\"Epoch: {e+1}: Time: {elapsed_time:.2f} - Train Loss: {train_epoch_loss:.4f} - Validation Loss: {val_epoch_loss:.4f} - Train F1: {tr_acc:.4f} - Validation F1: {val_acc:.4f}\"\n",
        "        )\n",
        "\n",
        "        train_loss.append(train_epoch_loss)\n",
        "        val_loss.append(val_epoch_loss)\n",
        "\n",
        "        # Checkpointing\n",
        "        if val_epoch_loss < best_val_loss:\n",
        "          best_val_loss = val_epoch_loss\n",
        "          patience_counter = 0\n",
        "          # Guardar el modelo\n",
        "          checkpoint_path = os.path.join(checkpoint_dir, f'checkpoint_epoch_{e}.pth')\n",
        "          torch.save(model.state_dict(), checkpoint_path)\n",
        "          print(f'Model checkpoint saved at epoch {e}')\n",
        "        else:\n",
        "            patience_counter += 1\n",
        "\n",
        "        # Early stopping\n",
        "        if patience_counter >= early_stopping_patience:\n",
        "            print(f'Early stopping triggered at epoch {e-10}. Best validation loss: {best_val_loss:.4f}')\n",
        "            break\n",
        "\n",
        "    return model, train_loss, val_loss"
      ],
      "metadata": {
        "id": "PgzIirjL9Q4I"
      },
      "execution_count": null,
      "outputs": []
    },
    {
      "cell_type": "code",
      "source": [
        "# Configuración de hiperparámetros de entrenamiento\n",
        "training_params = dict(\n",
        "    learning_rate=3e-4,\n",
        "    batch_size=64,\n",
        "    num_epochs=100,\n",
        ")"
      ],
      "metadata": {
        "id": "2IFd3dop9Q7O"
      },
      "execution_count": null,
      "outputs": []
    },
    {
      "cell_type": "code",
      "source": [
        "# Entrenar el modelo utilizando la función `train_model`\n",
        "ft_vgg16, train_loss, val_loss = train_model(\n",
        "    train_data,\n",
        "    validation_data,\n",
        "    model=model,\n",
        "    training_params=training_params,\n",
        "    criterion=nn.CrossEntropyLoss(),\n",
        ")"
      ],
      "metadata": {
        "colab": {
          "base_uri": "https://localhost:8080/"
        },
        "id": "Z3XvSje893-g",
        "outputId": "2d1d6e9b-d2f3-427f-9c7a-04223e78beff"
      },
      "execution_count": null,
      "outputs": [
        {
          "output_type": "stream",
          "name": "stdout",
          "text": [
            "Using device: cuda\n",
            "Epoch: 1: Time: 507.90 - Train Loss: 0.6965 - Validation Loss: 0.5097 - Train F1: 0.7707 - Validation F1: 0.8668\n",
            "Model checkpoint saved at epoch 0\n",
            "Epoch: 2: Time: 25.36 - Train Loss: 0.1560 - Validation Loss: 0.0992 - Train F1: 0.8603 - Validation F1: 0.9193\n",
            "Model checkpoint saved at epoch 1\n",
            "Epoch: 3: Time: 22.23 - Train Loss: 0.0256 - Validation Loss: 0.0970 - Train F1: 0.9041 - Validation F1: 0.9337\n",
            "Model checkpoint saved at epoch 2\n",
            "Epoch: 4: Time: 22.91 - Train Loss: 0.0033 - Validation Loss: 0.0774 - Train F1: 0.9281 - Validation F1: 0.9445\n",
            "Model checkpoint saved at epoch 3\n",
            "Epoch: 5: Time: 21.64 - Train Loss: 0.0029 - Validation Loss: 0.0750 - Train F1: 0.9421 - Validation F1: 0.9492\n",
            "Model checkpoint saved at epoch 4\n",
            "Epoch: 6: Time: 22.21 - Train Loss: 0.0027 - Validation Loss: 0.0864 - Train F1: 0.9516 - Validation F1: 0.9514\n",
            "Epoch: 7: Time: 21.24 - Train Loss: 0.0016 - Validation Loss: 0.0586 - Train F1: 0.9585 - Validation F1: 0.9549\n",
            "Model checkpoint saved at epoch 6\n",
            "Epoch: 8: Time: 21.00 - Train Loss: 0.0003 - Validation Loss: 0.0487 - Train F1: 0.9637 - Validation F1: 0.9582\n",
            "Model checkpoint saved at epoch 7\n",
            "Epoch: 9: Time: 23.17 - Train Loss: 0.0001 - Validation Loss: 0.0486 - Train F1: 0.9677 - Validation F1: 0.9608\n",
            "Model checkpoint saved at epoch 8\n",
            "Epoch: 10: Time: 23.62 - Train Loss: 0.0001 - Validation Loss: 0.0495 - Train F1: 0.9709 - Validation F1: 0.9629\n",
            "Epoch: 11: Time: 21.01 - Train Loss: 0.0001 - Validation Loss: 0.0505 - Train F1: 0.9736 - Validation F1: 0.9646\n",
            "Epoch: 12: Time: 20.76 - Train Loss: 0.0001 - Validation Loss: 0.0516 - Train F1: 0.9758 - Validation F1: 0.9660\n",
            "Epoch: 13: Time: 21.75 - Train Loss: 0.0001 - Validation Loss: 0.0517 - Train F1: 0.9776 - Validation F1: 0.9672\n",
            "Epoch: 14: Time: 20.97 - Train Loss: 0.0000 - Validation Loss: 0.0525 - Train F1: 0.9792 - Validation F1: 0.9682\n",
            "Epoch: 15: Time: 20.83 - Train Loss: 0.0000 - Validation Loss: 0.0531 - Train F1: 0.9806 - Validation F1: 0.9691\n",
            "Epoch: 16: Time: 21.57 - Train Loss: 0.0000 - Validation Loss: 0.0541 - Train F1: 0.9818 - Validation F1: 0.9699\n",
            "Epoch: 17: Time: 20.66 - Train Loss: 0.0000 - Validation Loss: 0.0547 - Train F1: 0.9829 - Validation F1: 0.9705\n",
            "Epoch: 18: Time: 21.88 - Train Loss: 0.0000 - Validation Loss: 0.0553 - Train F1: 0.9838 - Validation F1: 0.9712\n",
            "Epoch: 19: Time: 21.99 - Train Loss: 0.0000 - Validation Loss: 0.0562 - Train F1: 0.9847 - Validation F1: 0.9717\n",
            "Early stopping triggered at epoch 8. Best validation loss: 0.0486\n"
          ]
        }
      ]
    },
    {
      "cell_type": "code",
      "source": [
        "# Crear una nueva instancia del modelo con los mismos parámetros que el modelo original\n",
        "best_model = VGG16FineTuneInter(num_classes=10)\n",
        "checkpoint_path = os.path.join('checkpoints', 'checkpoint_epoch_8.pth')\n",
        "best_model.load_state_dict(torch.load(checkpoint_path,weights_only=True))\n",
        "best_model.to(device)"
      ],
      "metadata": {
        "colab": {
          "base_uri": "https://localhost:8080/"
        },
        "id": "r2vVRsSn94Bg",
        "outputId": "fc1833e5-0cc1-452c-eeb1-d6da2c9fb96a"
      },
      "execution_count": null,
      "outputs": [
        {
          "output_type": "execute_result",
          "data": {
            "text/plain": [
              "VGG16FineTuneInter(\n",
              "  (backbone): VGG(\n",
              "    (features): Sequential(\n",
              "      (0): Conv2d(3, 64, kernel_size=(3, 3), stride=(1, 1), padding=(1, 1))\n",
              "      (1): ReLU(inplace=True)\n",
              "      (2): Conv2d(64, 64, kernel_size=(3, 3), stride=(1, 1), padding=(1, 1))\n",
              "      (3): ReLU(inplace=True)\n",
              "      (4): MaxPool2d(kernel_size=2, stride=2, padding=0, dilation=1, ceil_mode=False)\n",
              "      (5): Conv2d(64, 128, kernel_size=(3, 3), stride=(1, 1), padding=(1, 1))\n",
              "      (6): ReLU(inplace=True)\n",
              "      (7): Conv2d(128, 128, kernel_size=(3, 3), stride=(1, 1), padding=(1, 1))\n",
              "      (8): ReLU(inplace=True)\n",
              "      (9): MaxPool2d(kernel_size=2, stride=2, padding=0, dilation=1, ceil_mode=False)\n",
              "      (10): Conv2d(128, 256, kernel_size=(3, 3), stride=(1, 1), padding=(1, 1))\n",
              "      (11): ReLU(inplace=True)\n",
              "      (12): Conv2d(256, 256, kernel_size=(3, 3), stride=(1, 1), padding=(1, 1))\n",
              "      (13): ReLU(inplace=True)\n",
              "      (14): Conv2d(256, 256, kernel_size=(3, 3), stride=(1, 1), padding=(1, 1))\n",
              "      (15): ReLU(inplace=True)\n",
              "      (16): MaxPool2d(kernel_size=2, stride=2, padding=0, dilation=1, ceil_mode=False)\n",
              "      (17): Conv2d(256, 512, kernel_size=(3, 3), stride=(1, 1), padding=(1, 1))\n",
              "      (18): ReLU(inplace=True)\n",
              "      (19): Conv2d(512, 512, kernel_size=(3, 3), stride=(1, 1), padding=(1, 1))\n",
              "      (20): ReLU(inplace=True)\n",
              "      (21): Conv2d(512, 512, kernel_size=(3, 3), stride=(1, 1), padding=(1, 1))\n",
              "      (22): ReLU(inplace=True)\n",
              "      (23): MaxPool2d(kernel_size=2, stride=2, padding=0, dilation=1, ceil_mode=False)\n",
              "      (24): Conv2d(512, 512, kernel_size=(3, 3), stride=(1, 1), padding=(1, 1))\n",
              "      (25): ReLU(inplace=True)\n",
              "      (26): Conv2d(512, 512, kernel_size=(3, 3), stride=(1, 1), padding=(1, 1))\n",
              "      (27): ReLU(inplace=True)\n",
              "      (28): Conv2d(512, 512, kernel_size=(3, 3), stride=(1, 1), padding=(1, 1))\n",
              "      (29): ReLU(inplace=True)\n",
              "      (30): MaxPool2d(kernel_size=2, stride=2, padding=0, dilation=1, ceil_mode=False)\n",
              "    )\n",
              "    (pre_logits): ConvMlp(\n",
              "      (fc1): Conv2d(512, 4096, kernel_size=(7, 7), stride=(1, 1))\n",
              "      (act1): ReLU(inplace=True)\n",
              "      (drop): Dropout(p=0.0, inplace=False)\n",
              "      (fc2): Conv2d(4096, 4096, kernel_size=(1, 1), stride=(1, 1))\n",
              "      (act2): ReLU(inplace=True)\n",
              "    )\n",
              "    (head): ClassifierHead(\n",
              "      (global_pool): SelectAdaptivePool2d(pool_type=avg, flatten=Flatten(start_dim=1, end_dim=-1))\n",
              "      (drop): Dropout(p=0.0, inplace=False)\n",
              "      (fc): Identity()\n",
              "      (flatten): Identity()\n",
              "    )\n",
              "  )\n",
              "  (fc_layers): Sequential(\n",
              "    (0): LazyLinear(in_features=0, out_features=512, bias=True)\n",
              "    (1): Linear(in_features=512, out_features=10, bias=True)\n",
              "  )\n",
              ")"
            ]
          },
          "metadata": {},
          "execution_count": 17
        }
      ]
    },
    {
      "cell_type": "code",
      "source": [
        "def testing(model_input, data_eva):\n",
        "    # Cambiar el modelo al modo de evaluación\n",
        "    model_input.eval()\n",
        "\n",
        "    # Inicializar el cálculo de F1-score\n",
        "    f1_metric = torchmetrics.F1Score(task=\"multiclass\", num_classes=10, average=\"macro\").to(device)\n",
        "    data_eva = DataLoader(data_eva,batch_size=training_params[\"batch_size\"],shuffle=False,num_workers=2,pin_memory=True,)\n",
        "    criterion=nn.CrossEntropyLoss()\n",
        "    # Desactivar el cálculo de gradientes ya que no necesitamos backpropagation\n",
        "    with torch.no_grad():\n",
        "        test_loss = []\n",
        "        total_samples = 0\n",
        "\n",
        "        # Iterar sobre el conjunto de datos de test\n",
        "        for batch in data_eva:\n",
        "            # Mover los datos al dispositivo adecuado (CPU o GPU)\n",
        "            features, target = batch[0].to(device), batch[1].to(device)\n",
        "\n",
        "            # Hacer predicciones con el modelo\n",
        "            output = model_input(features)\n",
        "            loss = criterion(output, target.squeeze())  # Asegurarse de que las dimensiones coincidan\n",
        "            test_loss.append(loss.item())\n",
        "\n",
        "            # Convertir las predicciones a clases con la probabilidad máxima\n",
        "            preds = torch.argmax(output, dim=1)\n",
        "\n",
        "            # Actualizar el cálculo del F1-score\n",
        "            f1_metric.update(preds, target)\n",
        "\n",
        "    # Calcular el F1-score final\n",
        "    f1_score = f1_metric.compute().item()\n",
        "\n",
        "    print(f'F1-score: {f1_score:.5f}')"
      ],
      "metadata": {
        "id": "dJygu5dg94Et"
      },
      "execution_count": null,
      "outputs": []
    },
    {
      "cell_type": "code",
      "source": [
        "testing(model,test_data)"
      ],
      "metadata": {
        "colab": {
          "base_uri": "https://localhost:8080/"
        },
        "id": "mCb9ZsOj94H0",
        "outputId": "f8d7fe25-7f19-4b6f-e916-a978b1c62171"
      },
      "execution_count": null,
      "outputs": [
        {
          "output_type": "stream",
          "name": "stdout",
          "text": [
            "F1-score: 0.97091\n"
          ]
        }
      ]
    },
    {
      "cell_type": "code",
      "source": [
        "def ploting(train_loss,val_loss):\n",
        "  plt.plot(range(len(train_loss)),train_loss,color='blue',label='Train')\n",
        "  plt.plot(range(len(val_loss)), val_loss,color='red',label='Val')\n",
        "  plt.legend(title = \"Loss\")"
      ],
      "metadata": {
        "id": "7zffgAYE9BDc"
      },
      "execution_count": null,
      "outputs": []
    },
    {
      "cell_type": "code",
      "source": [
        "ploting(train_loss,val_loss)"
      ],
      "metadata": {
        "id": "F8eU4-tv-Dgn"
      },
      "execution_count": null,
      "outputs": []
    },
    {
      "cell_type": "code",
      "source": [],
      "metadata": {
        "id": "I4WrFXHk-DkE"
      },
      "execution_count": null,
      "outputs": []
    },
    {
      "cell_type": "code",
      "source": [],
      "metadata": {
        "id": "1GrIX4Jh-DnB"
      },
      "execution_count": null,
      "outputs": []
    }
  ]
}