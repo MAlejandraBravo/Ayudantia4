{
  "nbformat": 4,
  "nbformat_minor": 0,
  "metadata": {
    "colab": {
      "provenance": []
    },
    "kernelspec": {
      "name": "python3",
      "display_name": "Python 3"
    },
    "language_info": {
      "name": "python"
    }
  },
  "cells": [
    {
      "cell_type": "code",
      "execution_count": null,
      "metadata": {
        "colab": {
          "base_uri": "https://localhost:8080/"
        },
        "id": "cRO5XGCQn4zx",
        "outputId": "97e19e9a-6222-4ef4-e8dc-33aba3769c02"
      },
      "outputs": [
        {
          "output_type": "stream",
          "name": "stdout",
          "text": [
            "Mounted at /content/drive\n"
          ]
        }
      ],
      "source": [
        "from google.colab import drive\n",
        "\n",
        "drive.mount('/content/drive')"
      ]
    },
    {
      "cell_type": "markdown",
      "source": [
        "***Son un tipo distinto de Redes Neuronales donde sus parámetros aprenden “feature maps” de los datos. Principalemente se aplican en imágenes, pero pueden aplicarse para secuencias unidimensionales o secuencias de imágenes (videos).***\n",
        "\n",
        "Deep learning methods based on convolutional neural networks (CNNs) are a class of architectures commonly used for spatial pattern analysis. CNNs receive an input image that is passed through a series of convolutional layers, and a vector of image features is generated. The generated vector is typically connected to a fully connected network whose output can be a sigmoid, softmax, linear, and other functions depending on the problem being solved\n",
        "\n",
        "[Dot CSV](https://www.youtube.com/watch?v=V8j1oENVz00 )"
      ],
      "metadata": {
        "id": "3-gw_Jx8xpkd"
      }
    },
    {
      "cell_type": "markdown",
      "source": [
        "\n",
        "The figure shows the architecture of a CNN with its main components, in an example of classifying the presence of pine trees using RGB images captured by drones: (a) Input Image, (b) Convolutional Layers, (c) Pooling Layers, (d) Fully Connected Layers, and (e) Output Layers.\n",
        "\n",
        "![Descripción de la imagen](https://drive.google.com/uc?export=view&id=1MFBeIw2KOHqMXkCpqzvsRRnToe9f9ncp)\n",
        "\n",
        "\n",
        "**Input Layer**: Receives as input an image, typically represented in three dimensions: height, width, and color channels (Figure.a).\n",
        "\n",
        "**Convolutional Layers**: Apply multiple small filters to the input image. Each filter is slid over the image by performing a convolution operation to produce a feature map. A nonlinear activation function, typically ReLU (Rectified Linear Unit), is applied to these maps to introduce nonlinearities and allow the network to learn complex relationships (Figure.b).\n",
        "\n",
        "**Pooling layers**: They reduce the dimensions of the feature maps. This can be done by max pooling, which takes the maximum value, or average pooling, which takes the average the values (Figure.c).\n",
        "\n",
        "**Fully Connected Layers**: these layers are divided into two types: flattening layers, which convert feature maps into one-dimensional vectors, and dense layers, which connect each neuron in one layer with each neuron in the next layer. Activation functions such as ReLU, linear, and sigmoid, among others, are used in these layers (Figure.d).\n",
        "\n",
        "**Output Layer:** It is the last layer and the one that delivers the predictions, and can vary according to the task. For example, for a multiclass classification, a softmax function is generally used to produce the probability of each class; for binary classification, a sigmoid function is usual; for a regression problem, a linear or sigmoid function is common, among other examples (Figure.e).\n",
        "\n"
      ],
      "metadata": {
        "id": "XyfSS8wDtCUY"
      }
    },
    {
      "cell_type": "markdown",
      "source": [
        "**Hiperparámetros de la Convolución:**\n",
        "\n",
        "*Stride:* Corresponde a la cantidad de pasos en que se mueve el Kernel. Un stride más grande implica feature maps más pequeños y menos detalles. Strides más pequeños retiene más detalles, pero implica un mayor número de operaciones.\n",
        "\n",
        "*Padding:* Corresponde a un relleno para dar mayor movimiento del kernel. Permite evitar la reducción de dimensionalidad por parte de la convolución además de considerar la información de los bordes de la imagen. Se llama “valid” a no usar padding, y “same” a agregar suficientes píxeles para evitar la reducción de dimensión.\n",
        "\n",
        "*Dilation:* En este caso se tienen gaps al momento de aplicar el Kernel. Normalmente aplicar dilation aumenta el campo receptivo de la convolución capturando más contexto sin la necesidad de aumentar el kernel size. 1 implica sin dilation."
      ],
      "metadata": {
        "id": "VRNzBnKszczK"
      }
    },
    {
      "cell_type": "code",
      "source": [
        "import numpy as np\n",
        "from scipy.signal import convolve2d\n",
        "import matplotlib.pyplot as plt\n",
        "\n",
        "#https://docs.scipy.org/doc/scipy/reference/generated/scipy.signal.convolve2d.html\n",
        "\n",
        "# Crear una matriz 10x10 con valores aleatorios entre 0 y 1\n",
        "matriz = np.random.rand(10, 10)\n",
        "\n",
        "# Crear un kernel 3x3 de suavizado\n",
        "kernel = np.ones((3, 3)) / 9\n",
        "\n",
        "# Aplicar la convolución\n",
        "#mode=full,valid,same\n",
        "#boundary=A flag indicating how to handle boundaries (fill,value,wrap,symm)\n",
        "#fillvalue= value to fill pad input arrays with. Default is 0.\n",
        "resultado = convolve2d(matriz, kernel, mode='same', boundary='wrap', fillvalue=0)\n",
        "\n",
        "# Visualizar la matriz original y el resultado de la convolución como mapas de calor\n",
        "fig, axes = plt.subplots(1, 2, figsize=(12, 5))\n",
        "\n",
        "# Mapa de calor de la matriz original\n",
        "axes[0].imshow(matriz, cmap='viridis')\n",
        "axes[0].set_title('Matriz Original')\n",
        "axes[0].axis('off')  # Ocultar ejes\n",
        "\n",
        "# Mapa de calor del resultado de la convolución\n",
        "axes[1].imshow(resultado, cmap='viridis')\n",
        "axes[1].set_title('Resultado de la Convolución')\n",
        "axes[1].axis('off')  # Ocultar ejes\n",
        "\n",
        "print(\"Original\",matriz.shape)\n",
        "print(\"Resultado de la Convolución\",resultado.shape)\n",
        "\n",
        "plt.show()"
      ],
      "metadata": {
        "colab": {
          "base_uri": "https://localhost:8080/",
          "height": 478
        },
        "id": "MMtqhsb_oBZz",
        "outputId": "33b8c5ae-1d25-47e2-9c6c-e132958cc1e8"
      },
      "execution_count": null,
      "outputs": [
        {
          "output_type": "stream",
          "name": "stdout",
          "text": [
            "Original (10, 10)\n",
            "Resultado de la Convolución (10, 10)\n"
          ]
        },
        {
          "output_type": "display_data",
          "data": {
            "text/plain": [
              "<Figure size 1200x500 with 2 Axes>"
            ],
            "image/png": "[encoded data removed]"
          },
          "metadata": {}
        }
      ]
    },
    {
      "cell_type": "code",
      "source": [
        "import numpy as np\n",
        "from scipy.signal import convolve2d\n",
        "import matplotlib.pyplot as plt\n",
        "\n",
        "# Crear una matriz 10x10 con valores aleatorios entre 0 y 1\n",
        "matriz = np.random.rand(10, 10)\n",
        "\n",
        "# Crear un kernel 3x3\n",
        "kernel = np.ones((3, 3)) / 9\n",
        "\n",
        "# Aplicar la convolución\n",
        "resultado_convolucion = convolve2d(matriz, kernel, mode='same', boundary='fill', fillvalue=0)\n",
        "\n",
        "# Función para aplicar max pooling\n",
        "def max_pooling(matrix, pool_size):\n",
        "    # Obtener las dimensiones de la matriz\n",
        "    n_rows, n_cols = matrix.shape\n",
        "    pool_rows, pool_cols = pool_size\n",
        "\n",
        "    # Calcular las dimensiones de la matriz de salida\n",
        "    out_rows = n_rows // pool_rows\n",
        "    out_cols = n_cols // pool_cols\n",
        "\n",
        "    # Redimensionar y aplicar max\n",
        "    return matrix.reshape(out_rows, pool_rows, out_cols, pool_cols).max(axis=(1, 3))\n",
        "\n",
        "# Aplicar max pooling de 2x2 al resultado de la convolución\n",
        "resultado_pooling = max_pooling(resultado_convolucion, pool_size=(2, 2))\n",
        "\n",
        "# Visualizar la matriz original, el resultado de la convolución y el resultado de max pooling\n",
        "fig, axes = plt.subplots(1, 3, figsize=(18, 5))\n",
        "\n",
        "# Mapa de calor de la matriz original\n",
        "axes[0].imshow(matriz, cmap='viridis')\n",
        "axes[0].set_title('Matriz Original')\n",
        "axes[0].axis('off')  # Ocultar ejes\n",
        "\n",
        "# Mapa de calor del resultado de la convolución\n",
        "axes[1].imshow(resultado_convolucion, cmap='viridis')\n",
        "axes[1].set_title('Resultado de la Convolución')\n",
        "axes[1].axis('off')  # Ocultar ejes\n",
        "\n",
        "# Mapa de calor del resultado de max pooling\n",
        "axes[2].imshow(resultado_pooling, cmap='viridis')\n",
        "axes[2].set_title('Resultado de Max Pooling')\n",
        "axes[2].axis('off')  # Ocultar ejes\n",
        "\n",
        "print(\"Original\",matriz.shape)\n",
        "print(\"Resultado de la Convolución\",resultado.shape)\n",
        "print(\"Resultado de Max Pooling de 2x2\",resultado_pooling.shape)\n",
        "\n",
        "plt.show()\n"
      ],
      "metadata": {
        "colab": {
          "base_uri": "https://localhost:8080/",
          "height": 473
        },
        "id": "PstnVn3cDFaE",
        "outputId": "a4041256-32e0-41e8-e8cd-d0938395b661"
      },
      "execution_count": null,
      "outputs": [
        {
          "output_type": "stream",
          "name": "stdout",
          "text": [
            "Original (10, 10)\n",
            "Resultado de la Convolución (10, 10)\n",
            "Resultado de Max Pooling de 2x2 (5, 5)\n"
          ]
        },
        {
          "output_type": "display_data",
          "data": {
            "text/plain": [
              "<Figure size 1800x500 with 3 Axes>"
            ],
            "image/png": "[encoded data removed]"
          },
          "metadata": {}
        }
      ]
    },
    {
      "cell_type": "markdown",
      "source": [
        "**Different approaches to using CNN**\n",
        "\n",
        "CNN architectures can be used for *different tasks or approaches*, depending on the problem to be solved and the type of labeled data. One of the most common approaches is classification (Figure.a), which corresponds to assigning a class to an entire image. Another approach is object detection (Figure.b), which aims to locate the class individually within an image, usually using a box to frame the target species. On the other hand, there are the semantic and instance segmentation approaches (Figure.c and d), which aim to delineate the explicit spatial extent of the target class and to individually localize the class in the image, respectively. Finally, the image regression approach (Figure.e) assigns a continuous value to the image for a given class.\n"
      ],
      "metadata": {
        "id": "-7HjpD63FIPk"
      }
    },
    {
      "cell_type": "markdown",
      "source": [
        "![Descripción de la imagen](https://drive.google.com/uc?export=view&id=1_GWFDEQHz8uuSQJ14FG2dVW1TTzIooTt)\n"
      ],
      "metadata": {
        "id": "F_8IUTWluSod"
      }
    },
    {
      "cell_type": "markdown",
      "source": [
        "**VGG16**\n",
        "\n",
        "La VGG16 es una arquitectura de red neuronal convolucional (CNN) desarrollada por el Visual Geometry Group (VGG) de la Universidad de Oxford. Es conocida por su simplicidad y alto rendimiento en tareas de clasificación de imágenes.\n",
        "\n",
        "Características principales:\n",
        "\n",
        "**16 capas profundas:** de ahí su nombre, VGG16 tiene 16 capas con pesos entrenables (13 convolucionales y 3 de red totalmente conectada).\n",
        "**Filtros pequeños:** usa filtros de tamaño 3x3 en sus capas convolucionales, lo que permite capturar detalles y patrones en diferentes escalas.\n",
        "**Arquitectura secuencial:** sigue un diseño simple y repetitivo, con bloques de capas convolucionales seguidas de una capa de pooling (reducción de dimensionalidad) después de cada bloque.\n",
        "\n",
        "![Descripción de la imagen](https://drive.google.com/uc?export=view&id=167YiD4u4KQ52oZ135DwS_Oif6pIVL0Nb)\n",
        "\n",
        "\n"
      ],
      "metadata": {
        "id": "5YxU1erYI9Mv"
      }
    },
    {
      "cell_type": "markdown",
      "source": [
        "**U-net**\n",
        "\n",
        "La U-Net es una arquitectura de red neuronal convolucional diseñada principalmente para tareas de segmentación de imágenes, como en el análisis médico y la visión por computadora.\n",
        "\n",
        "Características principales:\n",
        "\n",
        "**Estructura en forma de \"U\":** La arquitectura tiene una forma simétrica que consiste en dos partes: un encoder (contracción) que captura el contexto de la imagen y un decoder (expansión) que reconstruye la segmentación con precisión.\n",
        "\n",
        "**Conexiones de salto (skip connections):** Enlazan las capas de la fase de contracción con las capas correspondientes en la fase de expansión. Esto permite recuperar detalles espaciales perdidos durante la reducción de dimensionalidad en el encoder, mejorando la precisión.\n",
        "\n",
        "**Capas convolucionales:** Utiliza bloques de convoluciones y pooling para reducir la dimensionalidad en el encoder y convoluciones de upsampling para restaurarla en el decoder.\n",
        "\n",
        "![Descripción de la imagen](https://drive.google.com/uc?export=view&id=1XFmmWslcVIqSH2mVcimsG05qz6_VGiYB)"
      ],
      "metadata": {
        "id": "wC0iM3NMJA1E"
      }
    },
    {
      "cell_type": "markdown",
      "source": [
        "**YOLO**\n",
        "\n",
        "YOLO (You Only Look Once) es una arquitectura de red neuronal para detección de objetos en tiempo real. A diferencia de otros enfoques que procesan una imagen varias veces para detectar objetos, YOLO realiza todas las detecciones en una sola pasada, lo que lo hace extremadamente rápido y eficiente.\n",
        "\n",
        "Características principales:\n",
        "\n",
        "**Detección en una sola etapa:** YOLO divide la imagen en una cuadrícula y predice simultáneamente las probabilidades de clase y las cajas delimitadoras (bounding boxes) para múltiples objetos.\n",
        "\n",
        "**Precisión y velocidad:** Debido a su diseño, YOLO es capaz de realizar detección en tiempo real con buena precisión, especialmente útil en aplicaciones de video o sistemas embebidos.\n",
        "\n",
        "**Versiones avanzadas:** Cada nueva versión (como YOLOv3, YOLOv4, y YOLOv5) ha mejorado en precisión, detección de objetos pequeños y manejo de múltiples clases.\n",
        "\n",
        "![Descripción de la imagen](https://drive.google.com/uc?export=view&id=1KELPc0DdWOESVEK6FKrcprwSKzWKVvCT)"
      ],
      "metadata": {
        "id": "5Vynz3tNJSYh"
      }
    },
    {
      "cell_type": "markdown",
      "source": [],
      "metadata": {
        "id": "2_7FJV5qJjPS"
      }
    },
    {
      "cell_type": "code",
      "source": [],
      "metadata": {
        "id": "PzN2yN23oBfj"
      },
      "execution_count": null,
      "outputs": []
    },
    {
      "cell_type": "code",
      "source": [],
      "metadata": {
        "id": "l4FniPmKoBix"
      },
      "execution_count": null,
      "outputs": []
    }
  ]
}