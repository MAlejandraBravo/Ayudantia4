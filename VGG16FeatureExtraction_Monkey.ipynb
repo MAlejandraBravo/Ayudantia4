{
  "nbformat": 4,
  "nbformat_minor": 0,
  "metadata": {
    "colab": {
      "provenance": [],
      "machine_shape": "hm",
      "gpuType": "T4"
    },
    "kernelspec": {
      "name": "python3",
      "display_name": "Python 3"
    },
    "language_info": {
      "name": "python"
    },
    "accelerator": "GPU"
  },
  "cells": [
    {
      "cell_type": "markdown",
      "source": [
        "# Transfer Learning\n",
        "\n",
        "El **Transfer Learning** es un paradigma que utiliza el conocimiento de un *dominio de origen* (source) para beneficiar a un *dominio de destino* (target) relacionado. Proporciona una alternativa para utilizar un modelo previamente aprendido en nuevos dominios, en lugar de construir un modelo completamente nuevo.\n",
        "\n",
        "Existen diferentes categorías de Transfer Learning, siendo el *\"fine-tuning\"* una de las más populares. En este enfoque, se utiliza un modelo preentrenado, comúnmente entrenado con datos genéricos (por ejemplo, una CNN entrenada con el conjunto de datos ImageNet), que luego se ajusta para resolver un problema específico en el dominio de destino. Este enfoque aborda la dificultad de entrenar un modelo completamente desde cero, especialmente cuando el conjunto de datos etiquetados es pequeño, lo que complica el entrenamiento de arquitecturas con un gran número de parámetros, como las CNN.\n",
        "\n",
        "Para aprovechar el conocimiento de redes pre-entrenadas basadas en arquitecturas de CNN, hay dos enfoques principales:\n",
        "\n",
        "* **Full Fine-Tuning:** se entrenan todas las capas de la arquitectura preentrenada, incluidas las capas convolucionales y la parte *fully connected*.\n",
        "\n",
        "* **Feature extraction:** En este enfoque, solo se utilizan las características aprendidas por el modelo preentrenado, lo que implica congelar los parámetros del backbone preentrenado (es decir, estos no se actualizan). Para lograrlo, se congelan las capas convolucionales (**Freezing Layers**) durante el entrenamiento, y únicamente se entrena la parte *fully connected*.\n",
        "\n",
        "* **Fine-tuning parcial:** solo se entrenan algunas capas convolucionales, junto con la parte *fully connected*."
      ],
      "metadata": {
        "id": "4QqVMjon56Zs"
      }
    },
    {
      "cell_type": "markdown",
      "source": [
        "# Feature extraction using pre-trained CNNs.\n",
        "\n",
        "\n"
      ],
      "metadata": {
        "id": "wFeK4p65txs4"
      }
    },
    {
      "cell_type": "code",
      "execution_count": null,
      "metadata": {
        "colab": {
          "base_uri": "https://localhost:8080/"
        },
        "id": "PbBMEuw7f4ZV",
        "outputId": "26cd1ca2-b0f6-4c68-87e9-94b5788a9a7c"
      },
      "outputs": [
        {
          "output_type": "stream",
          "name": "stdout",
          "text": [
            "Requirement already satisfied: torchmetrics in /usr/local/lib/python3.10/dist-packages (1.5.1)\n",
            "Requirement already satisfied: numpy<2.0,>1.20.0 in /usr/local/lib/python3.10/dist-packages (from torchmetrics) (1.26.4)\n",
            "Requirement already satisfied: packaging>17.1 in /usr/local/lib/python3.10/dist-packages (from torchmetrics) (24.1)\n",
            "Requirement already satisfied: torch>=1.10.0 in /usr/local/lib/python3.10/dist-packages (from torchmetrics) (2.5.0+cu121)\n",
            "Requirement already satisfied: lightning-utilities>=0.8.0 in /usr/local/lib/python3.10/dist-packages (from torchmetrics) (0.11.8)\n",
            "Requirement already satisfied: setuptools in /usr/local/lib/python3.10/dist-packages (from lightning-utilities>=0.8.0->torchmetrics) (75.1.0)\n",
            "Requirement already satisfied: typing-extensions in /usr/local/lib/python3.10/dist-packages (from lightning-utilities>=0.8.0->torchmetrics) (4.12.2)\n",
            "Requirement already satisfied: filelock in /usr/local/lib/python3.10/dist-packages (from torch>=1.10.0->torchmetrics) (3.16.1)\n",
            "Requirement already satisfied: networkx in /usr/local/lib/python3.10/dist-packages (from torch>=1.10.0->torchmetrics) (3.4.2)\n",
            "Requirement already satisfied: jinja2 in /usr/local/lib/python3.10/dist-packages (from torch>=1.10.0->torchmetrics) (3.1.4)\n",
            "Requirement already satisfied: fsspec in /usr/local/lib/python3.10/dist-packages (from torch>=1.10.0->torchmetrics) (2024.10.0)\n",
            "Requirement already satisfied: sympy==1.13.1 in /usr/local/lib/python3.10/dist-packages (from torch>=1.10.0->torchmetrics) (1.13.1)\n",
            "Requirement already satisfied: mpmath<1.4,>=1.1.0 in /usr/local/lib/python3.10/dist-packages (from sympy==1.13.1->torch>=1.10.0->torchmetrics) (1.3.0)\n",
            "Requirement already satisfied: MarkupSafe>=2.0 in /usr/local/lib/python3.10/dist-packages (from jinja2->torch>=1.10.0->torchmetrics) (3.0.2)\n"
          ]
        }
      ],
      "source": [
        "pip install torchmetrics"
      ]
    },
    {
      "cell_type": "code",
      "source": [
        "pip install torchinfo"
      ],
      "metadata": {
        "colab": {
          "base_uri": "https://localhost:8080/"
        },
        "id": "jnjURJjTgS8R",
        "outputId": "7c981c63-003c-4862-b6c1-1e7faf60d53e"
      },
      "execution_count": null,
      "outputs": [
        {
          "output_type": "stream",
          "name": "stdout",
          "text": [
            "Requirement already satisfied: torchinfo in /usr/local/lib/python3.10/dist-packages (1.8.0)\n"
          ]
        }
      ]
    },
    {
      "cell_type": "code",
      "source": [
        "from torchvision.datasets import ImageFolder\n",
        "import albumentations as A\n",
        "from albumentations.pytorch.transforms import ToTensorV2\n",
        "import numpy as np\n",
        "import matplotlib.pyplot as plt\n",
        "from PIL import Image\n",
        "import torch\n",
        "import torch.nn as nn\n",
        "from torch.utils.data import DataLoader\n",
        "import torchmetrics\n",
        "import time\n",
        "from torchinfo import summary\n",
        "import torchvision\n",
        "from torchvision.models import list_models\n",
        "import timm\n",
        "import os\n",
        "import torchinfo\n",
        "torch.manual_seed(0)\n",
        "torch.cuda.manual_seed(0)\n",
        "os.environ[\"PYTORCH_CUDA_ALLOC_CONF\"] = \"expandable_segments:True\""
      ],
      "metadata": {
        "colab": {
          "base_uri": "https://localhost:8080/"
        },
        "id": "AqaqnYfBgTAj",
        "outputId": "b5e512b6-0ee6-43fa-ed34-74c89dd37b72"
      },
      "execution_count": null,
      "outputs": [
        {
          "output_type": "stream",
          "name": "stderr",
          "text": [
            "/usr/local/lib/python3.10/dist-packages/albumentations/__init__.py:24: UserWarning: A new version of Albumentations is available: 1.4.21 (you have 1.4.20). Upgrade using: pip install -U albumentations. To disable automatic update checks, set the environment variable NO_ALBUMENTATIONS_UPDATE to 1.\n",
            "  check_for_updates()\n"
          ]
        }
      ]
    },
    {
      "cell_type": "code",
      "source": [
        "class Transforms:\n",
        "    def __init__(self, transform: A.Compose):\n",
        "        self.transform = transform\n",
        "\n",
        "    def __call__(self, image):\n",
        "        image = np.array(image)\n",
        "        return self.transform(image=image)[\"image\"]\n",
        "\n",
        "train_transforms = A.Compose(\n",
        "    [A.Resize(256, 256), A.ToFloat(), ToTensorV2()]\n",
        ")\n",
        "validation_transforms = A.Compose(\n",
        "    [A.Resize(256, 256), A.ToFloat(), ToTensorV2()]\n",
        ")\n"
      ],
      "metadata": {
        "id": "ynY21e-GgTDo"
      },
      "execution_count": null,
      "outputs": []
    },
    {
      "cell_type": "code",
      "source": [
        "from google.colab import drive\n",
        "\n",
        "drive.mount('/content/drive')"
      ],
      "metadata": {
        "colab": {
          "base_uri": "https://localhost:8080/"
        },
        "id": "R7QoeTC6gTGU",
        "outputId": "5dc02385-f57d-4ea2-8c00-c071ec7f3aaf"
      },
      "execution_count": null,
      "outputs": [
        {
          "output_type": "stream",
          "name": "stdout",
          "text": [
            "Drive already mounted at /content/drive; to attempt to forcibly remount, call drive.mount(\"/content/drive\", force_remount=True).\n"
          ]
        }
      ]
    },
    {
      "cell_type": "code",
      "source": [
        "train_data = ImageFolder(\n",
        "    \"drive/MyDrive/monkey/training\",\n",
        "    transform=Transforms(train_transforms),\n",
        ")\n",
        "validation_data = ImageFolder(\n",
        "    \"drive/MyDrive/monkey/validation\",\n",
        "    transform=Transforms(validation_transforms),\n",
        ")\n",
        "\n",
        "print(f\"Elementos en Entrenamiento: {len(train_data)}\")\n",
        "print(f\"Elementos en Validación: {len(validation_data)}\")"
      ],
      "metadata": {
        "colab": {
          "base_uri": "https://localhost:8080/"
        },
        "id": "ax5SK_w3gTIt",
        "outputId": "4c525411-e1e6-42b4-b604-f7367e73bb6f"
      },
      "execution_count": null,
      "outputs": [
        {
          "output_type": "stream",
          "name": "stdout",
          "text": [
            "Elementos en Entrenamiento: 1097\n",
            "Elementos en Validación: 272\n"
          ]
        }
      ]
    },
    {
      "cell_type": "code",
      "source": [
        "#Una pequeña muestra de datos de test a partir de los datos de validación\n",
        "from torch.utils.data import random_split\n",
        "# Calcular el tamaño del 20% del conjunto de validación\n",
        "test_size = int(0.2 * len(validation_data))\n",
        "validation_size = len(validation_data) - test_size\n",
        "\n",
        "# Dividir el conjunto de validación en validación (80%) y prueba (20%)\n",
        "validation_data, test_data = random_split(validation_data, [validation_size, test_size])\n",
        "\n",
        "# Imprimir el tamaño de cada subconjunto\n",
        "print(f\"Elementos en Entrenamiento: {len(train_data)}\")\n",
        "print(f\"Elementos en Validación: {len(validation_data)}\")\n",
        "print(f\"Elementos en Prueba: {len(test_data)}\")"
      ],
      "metadata": {
        "colab": {
          "base_uri": "https://localhost:8080/"
        },
        "id": "AQdYjsZdgdUO",
        "outputId": "4b9a141c-e545-4594-8995-f949bce46707"
      },
      "execution_count": null,
      "outputs": [
        {
          "output_type": "stream",
          "name": "stdout",
          "text": [
            "Elementos en Entrenamiento: 1097\n",
            "Elementos en Validación: 218\n",
            "Elementos en Prueba: 54\n"
          ]
        }
      ]
    },
    {
      "cell_type": "code",
      "source": [
        "device = torch.device(\"cuda\" if torch.cuda.is_available() else \"cpu\")"
      ],
      "metadata": {
        "id": "j9kvws47gdYd"
      },
      "execution_count": null,
      "outputs": []
    },
    {
      "cell_type": "markdown",
      "source": [
        "**VGG16**\n",
        "\n",
        "![Descripción de la imagen](https://drive.google.com/uc?export=view&id=167YiD4u4KQ52oZ135DwS_Oif6pIVL0Nb)\n"
      ],
      "metadata": {
        "id": "4RLAkH4BC5eK"
      }
    },
    {
      "cell_type": "code",
      "source": [
        "class VGG16FeatureExtractor(nn.Module):\n",
        "    def __init__(self, num_classes=10, frozen=True):\n",
        "        super(VGG16FeatureExtractor, self).__init__()\n",
        "        self.num_classes = num_classes\n",
        "        # Cargar VGG16 preentrenado de timm\n",
        "        self.backbone = timm.create_model('vgg16', pretrained=True, num_classes=0)\n",
        "        if frozen:\n",
        "            for param in self.backbone.parameters():\n",
        "                param.requires_grad = False\n",
        "\n",
        "        self.fc_layers = nn.Sequential(\n",
        "            nn.LazyLinear(512), #el tamaño de entrada se determina automáticamente\n",
        "            nn.Linear(512, self.num_classes)\n",
        "        )\n",
        "\n",
        "    def forward(self, x):\n",
        "        x = self.backbone(x)\n",
        "        x = self.fc_layers(x)\n",
        "        return x"
      ],
      "metadata": {
        "id": "xe9D8f2Dgdbz"
      },
      "execution_count": null,
      "outputs": []
    },
    {
      "cell_type": "code",
      "source": [
        "# Instanciar el modelo\n",
        "model = VGG16FeatureExtractor(num_classes=10)\n",
        "torchinfo.summary(model,input_size=(1, 3, 224, 224))"
      ],
      "metadata": {
        "colab": {
          "base_uri": "https://localhost:8080/"
        },
        "id": "B1lu99nZiguY",
        "outputId": "8bf358f5-069a-4eb1-a473-b32a24f2f733"
      },
      "execution_count": null,
      "outputs": [
        {
          "output_type": "stream",
          "name": "stderr",
          "text": [
            "/usr/local/lib/python3.10/dist-packages/huggingface_hub/utils/_token.py:89: UserWarning: \n",
            "The secret `HF_TOKEN` does not exist in your Colab secrets.\n",
            "To authenticate with the Hugging Face Hub, create a token in your settings tab (https://huggingface.co/settings/tokens), set it as secret in your Google Colab and restart your session.\n",
            "You will be able to reuse this secret in all of your notebooks.\n",
            "Please note that authentication is recommended but still optional to access public models or datasets.\n",
            "  warnings.warn(\n"
          ]
        },
        {
          "output_type": "execute_result",
          "data": {
            "text/plain": [
              "===============================================================================================\n",
              "Layer (type:depth-idx)                        Output Shape              Param #\n",
              "===============================================================================================\n",
              "VGG16FeatureExtractor                         [1, 10]                   --\n",
              "├─VGG: 1-1                                    [1, 4096]                 --\n",
              "│    └─Sequential: 2-1                        [1, 512, 7, 7]            --\n",
              "│    │    └─Conv2d: 3-1                       [1, 64, 224, 224]         (1,792)\n",
              "│    │    └─ReLU: 3-2                         [1, 64, 224, 224]         --\n",
              "│    │    └─Conv2d: 3-3                       [1, 64, 224, 224]         (36,928)\n",
              "│    │    └─ReLU: 3-4                         [1, 64, 224, 224]         --\n",
              "│    │    └─MaxPool2d: 3-5                    [1, 64, 112, 112]         --\n",
              "│    │    └─Conv2d: 3-6                       [1, 128, 112, 112]        (73,856)\n",
              "│    │    └─ReLU: 3-7                         [1, 128, 112, 112]        --\n",
              "│    │    └─Conv2d: 3-8                       [1, 128, 112, 112]        (147,584)\n",
              "│    │    └─ReLU: 3-9                         [1, 128, 112, 112]        --\n",
              "│    │    └─MaxPool2d: 3-10                   [1, 128, 56, 56]          --\n",
              "│    │    └─Conv2d: 3-11                      [1, 256, 56, 56]          (295,168)\n",
              "│    │    └─ReLU: 3-12                        [1, 256, 56, 56]          --\n",
              "│    │    └─Conv2d: 3-13                      [1, 256, 56, 56]          (590,080)\n",
              "│    │    └─ReLU: 3-14                        [1, 256, 56, 56]          --\n",
              "│    │    └─Conv2d: 3-15                      [1, 256, 56, 56]          (590,080)\n",
              "│    │    └─ReLU: 3-16                        [1, 256, 56, 56]          --\n",
              "│    │    └─MaxPool2d: 3-17                   [1, 256, 28, 28]          --\n",
              "│    │    └─Conv2d: 3-18                      [1, 512, 28, 28]          (1,180,160)\n",
              "│    │    └─ReLU: 3-19                        [1, 512, 28, 28]          --\n",
              "│    │    └─Conv2d: 3-20                      [1, 512, 28, 28]          (2,359,808)\n",
              "│    │    └─ReLU: 3-21                        [1, 512, 28, 28]          --\n",
              "│    │    └─Conv2d: 3-22                      [1, 512, 28, 28]          (2,359,808)\n",
              "│    │    └─ReLU: 3-23                        [1, 512, 28, 28]          --\n",
              "│    │    └─MaxPool2d: 3-24                   [1, 512, 14, 14]          --\n",
              "│    │    └─Conv2d: 3-25                      [1, 512, 14, 14]          (2,359,808)\n",
              "│    │    └─ReLU: 3-26                        [1, 512, 14, 14]          --\n",
              "│    │    └─Conv2d: 3-27                      [1, 512, 14, 14]          (2,359,808)\n",
              "│    │    └─ReLU: 3-28                        [1, 512, 14, 14]          --\n",
              "│    │    └─Conv2d: 3-29                      [1, 512, 14, 14]          (2,359,808)\n",
              "│    │    └─ReLU: 3-30                        [1, 512, 14, 14]          --\n",
              "│    │    └─MaxPool2d: 3-31                   [1, 512, 7, 7]            --\n",
              "│    └─ConvMlp: 2-2                           [1, 4096, 1, 1]           --\n",
              "│    │    └─Conv2d: 3-32                      [1, 4096, 1, 1]           (102,764,544)\n",
              "│    │    └─ReLU: 3-33                        [1, 4096, 1, 1]           --\n",
              "│    │    └─Dropout: 3-34                     [1, 4096, 1, 1]           --\n",
              "│    │    └─Conv2d: 3-35                      [1, 4096, 1, 1]           (16,781,312)\n",
              "│    │    └─ReLU: 3-36                        [1, 4096, 1, 1]           --\n",
              "│    └─ClassifierHead: 2-3                    [1, 4096]                 --\n",
              "│    │    └─SelectAdaptivePool2d: 3-37        [1, 4096]                 --\n",
              "│    │    └─Dropout: 3-38                     [1, 4096]                 --\n",
              "│    │    └─Identity: 3-39                    [1, 4096]                 --\n",
              "│    │    └─Identity: 3-40                    [1, 4096]                 --\n",
              "├─Sequential: 1-2                             [1, 10]                   --\n",
              "│    └─Linear: 2-4                            [1, 512]                  2,097,664\n",
              "│    └─Linear: 2-5                            [1, 10]                   5,130\n",
              "===============================================================================================\n",
              "Total params: 136,363,338\n",
              "Trainable params: 2,102,794\n",
              "Non-trainable params: 134,260,544\n",
              "Total mult-adds (G): 15.48\n",
              "===============================================================================================\n",
              "Input size (MB): 0.60\n",
              "Forward/backward pass size (MB): 108.45\n",
              "Params size (MB): 545.45\n",
              "Estimated Total Size (MB): 654.51\n",
              "==============================================================================================="
            ]
          },
          "metadata": {},
          "execution_count": 10
        }
      ]
    },
    {
      "cell_type": "code",
      "source": [
        "class VGG16Flatten(nn.Module):\n",
        "    def __init__(self, frozen=True):\n",
        "        super(VGG16Flatten, self).__init__()\n",
        "        # Cargar VGG16 preentrenado con la capa de clasificación removida\n",
        "        self.backbone = timm.create_model('vgg16', pretrained=True, num_classes=0)\n",
        "\n",
        "        # Congelar los parámetros si frozen=True\n",
        "        if frozen:\n",
        "            for param in self.backbone.parameters():\n",
        "                param.requires_grad = False\n",
        "\n",
        "    def forward(self, x):\n",
        "        # Extraer características y aplanarlas\n",
        "        features = self.backbone(x)\n",
        "        #flattened_features = self.flatten(features)\n",
        "        return features"
      ],
      "metadata": {
        "id": "khJXdzBDlSFJ"
      },
      "execution_count": null,
      "outputs": []
    },
    {
      "cell_type": "code",
      "source": [
        "feature_extractor = VGG16Flatten()\n",
        "torchinfo.summary(feature_extractor,input_size=(1, 3, 224, 224))"
      ],
      "metadata": {
        "colab": {
          "base_uri": "https://localhost:8080/"
        },
        "id": "Kw_oqkyUqk9u",
        "outputId": "198aa36f-11ed-4546-a5ce-f07084ca21ec"
      },
      "execution_count": null,
      "outputs": [
        {
          "output_type": "execute_result",
          "data": {
            "text/plain": [
              "===============================================================================================\n",
              "Layer (type:depth-idx)                        Output Shape              Param #\n",
              "===============================================================================================\n",
              "VGG16Flatten                                  [1, 4096]                 --\n",
              "├─VGG: 1-1                                    [1, 4096]                 --\n",
              "│    └─Sequential: 2-1                        [1, 512, 7, 7]            --\n",
              "│    │    └─Conv2d: 3-1                       [1, 64, 224, 224]         (1,792)\n",
              "│    │    └─ReLU: 3-2                         [1, 64, 224, 224]         --\n",
              "│    │    └─Conv2d: 3-3                       [1, 64, 224, 224]         (36,928)\n",
              "│    │    └─ReLU: 3-4                         [1, 64, 224, 224]         --\n",
              "│    │    └─MaxPool2d: 3-5                    [1, 64, 112, 112]         --\n",
              "│    │    └─Conv2d: 3-6                       [1, 128, 112, 112]        (73,856)\n",
              "│    │    └─ReLU: 3-7                         [1, 128, 112, 112]        --\n",
              "│    │    └─Conv2d: 3-8                       [1, 128, 112, 112]        (147,584)\n",
              "│    │    └─ReLU: 3-9                         [1, 128, 112, 112]        --\n",
              "│    │    └─MaxPool2d: 3-10                   [1, 128, 56, 56]          --\n",
              "│    │    └─Conv2d: 3-11                      [1, 256, 56, 56]          (295,168)\n",
              "│    │    └─ReLU: 3-12                        [1, 256, 56, 56]          --\n",
              "│    │    └─Conv2d: 3-13                      [1, 256, 56, 56]          (590,080)\n",
              "│    │    └─ReLU: 3-14                        [1, 256, 56, 56]          --\n",
              "│    │    └─Conv2d: 3-15                      [1, 256, 56, 56]          (590,080)\n",
              "│    │    └─ReLU: 3-16                        [1, 256, 56, 56]          --\n",
              "│    │    └─MaxPool2d: 3-17                   [1, 256, 28, 28]          --\n",
              "│    │    └─Conv2d: 3-18                      [1, 512, 28, 28]          (1,180,160)\n",
              "│    │    └─ReLU: 3-19                        [1, 512, 28, 28]          --\n",
              "│    │    └─Conv2d: 3-20                      [1, 512, 28, 28]          (2,359,808)\n",
              "│    │    └─ReLU: 3-21                        [1, 512, 28, 28]          --\n",
              "│    │    └─Conv2d: 3-22                      [1, 512, 28, 28]          (2,359,808)\n",
              "│    │    └─ReLU: 3-23                        [1, 512, 28, 28]          --\n",
              "│    │    └─MaxPool2d: 3-24                   [1, 512, 14, 14]          --\n",
              "│    │    └─Conv2d: 3-25                      [1, 512, 14, 14]          (2,359,808)\n",
              "│    │    └─ReLU: 3-26                        [1, 512, 14, 14]          --\n",
              "│    │    └─Conv2d: 3-27                      [1, 512, 14, 14]          (2,359,808)\n",
              "│    │    └─ReLU: 3-28                        [1, 512, 14, 14]          --\n",
              "│    │    └─Conv2d: 3-29                      [1, 512, 14, 14]          (2,359,808)\n",
              "│    │    └─ReLU: 3-30                        [1, 512, 14, 14]          --\n",
              "│    │    └─MaxPool2d: 3-31                   [1, 512, 7, 7]            --\n",
              "│    └─ConvMlp: 2-2                           [1, 4096, 1, 1]           --\n",
              "│    │    └─Conv2d: 3-32                      [1, 4096, 1, 1]           (102,764,544)\n",
              "│    │    └─ReLU: 3-33                        [1, 4096, 1, 1]           --\n",
              "│    │    └─Dropout: 3-34                     [1, 4096, 1, 1]           --\n",
              "│    │    └─Conv2d: 3-35                      [1, 4096, 1, 1]           (16,781,312)\n",
              "│    │    └─ReLU: 3-36                        [1, 4096, 1, 1]           --\n",
              "│    └─ClassifierHead: 2-3                    [1, 4096]                 --\n",
              "│    │    └─SelectAdaptivePool2d: 3-37        [1, 4096]                 --\n",
              "│    │    └─Dropout: 3-38                     [1, 4096]                 --\n",
              "│    │    └─Identity: 3-39                    [1, 4096]                 --\n",
              "│    │    └─Identity: 3-40                    [1, 4096]                 --\n",
              "===============================================================================================\n",
              "Total params: 134,260,544\n",
              "Trainable params: 0\n",
              "Non-trainable params: 134,260,544\n",
              "Total mult-adds (G): 15.48\n",
              "===============================================================================================\n",
              "Input size (MB): 0.60\n",
              "Forward/backward pass size (MB): 108.45\n",
              "Params size (MB): 537.04\n",
              "Estimated Total Size (MB): 646.09\n",
              "==============================================================================================="
            ]
          },
          "metadata": {},
          "execution_count": 12
        }
      ]
    },
    {
      "cell_type": "code",
      "source": [
        "# Ejemplo de extracción de características\n",
        "img = \"drive/MyDrive/monkey/training/n0/n018.jpg\"\n",
        "img = Image.open(img)\n",
        "img = np.array(img)\n",
        "augmented = transforms(image=img)\n",
        "input_tensor = augmented[\"image\"].unsqueeze(0).to(device)\n",
        "features = feature_extractor(input_tensor)\n",
        "print(features.shape)  # Mostrar la forma de las características extraídas"
      ],
      "metadata": {
        "colab": {
          "base_uri": "https://localhost:8080/"
        },
        "id": "o0gUnE5jgniQ",
        "outputId": "13e7b505-0164-49a5-f3e8-15354bb53e98"
      },
      "execution_count": null,
      "outputs": [
        {
          "output_type": "stream",
          "name": "stdout",
          "text": [
            "torch.Size([1, 4096])\n"
          ]
        }
      ]
    },
    {
      "cell_type": "code",
      "source": [
        "features"
      ],
      "metadata": {
        "colab": {
          "base_uri": "https://localhost:8080/"
        },
        "id": "UZdVm0HxkdUT",
        "outputId": "4aa6529d-4236-4078-f0db-1a731600a802"
      },
      "execution_count": null,
      "outputs": [
        {
          "output_type": "execute_result",
          "data": {
            "text/plain": [
              "tensor([[0.0000, 0.2358, 0.0000,  ..., 0.0000, 0.0000, 0.0000]],\n",
              "       device='cuda:0')"
            ]
          },
          "metadata": {},
          "execution_count": 14
        }
      ]
    },
    {
      "cell_type": "code",
      "source": [
        "# Definir las métricas\n",
        "train_metric = torchmetrics.F1Score(task=\"multiclass\", num_classes=10, average=\"macro\").to(device)\n",
        "val_metric = torchmetrics.F1Score(task=\"multiclass\", num_classes=10, average=\"macro\").to(device)"
      ],
      "metadata": {
        "id": "vZ8-kjaUgnl2"
      },
      "execution_count": null,
      "outputs": []
    },
    {
      "cell_type": "code",
      "source": [
        "def train_model(\n",
        "    train_data,\n",
        "    val_data,\n",
        "    model,\n",
        "    training_params,\n",
        "    criterion=nn.CrossEntropyLoss(),\n",
        "):\n",
        "    print(f\"Using device: {device}\")\n",
        "    model.to(device)\n",
        "    optimizer = torch.optim.Adam(\n",
        "        model.parameters(),\n",
        "        lr=training_params[\"learning_rate\"],\n",
        "    )\n",
        "\n",
        "    train_dataloader = DataLoader(\n",
        "        train_data,\n",
        "        batch_size=training_params[\"batch_size\"],\n",
        "        shuffle=True,\n",
        "        num_workers=2,\n",
        "        pin_memory=True,\n",
        "    )\n",
        "    val_dataloader = DataLoader(\n",
        "        val_data,\n",
        "        batch_size=training_params[\"batch_size\"],\n",
        "        shuffle=False,\n",
        "        num_workers=2,\n",
        "        pin_memory=True,\n",
        "    )\n",
        "\n",
        "    train_loss = []\n",
        "    val_loss = []\n",
        "\n",
        "    # Configuración para el early stopping\n",
        "    early_stopping_patience = 10  # Número de épocas sin mejora antes de detener el entrenamiento\n",
        "    best_val_loss = float('inf')\n",
        "    patience_counter = 0\n",
        "\n",
        "    # Directorio para guardar los checkpoints\n",
        "    checkpoint_dir = 'checkpoints'\n",
        "    os.makedirs(checkpoint_dir, exist_ok=True)\n",
        "\n",
        "    for e in range(training_params[\"num_epochs\"]):\n",
        "        start_time = time.time()\n",
        "        train_batch_loss = []\n",
        "        val_batch_loss = []\n",
        "        model.train()\n",
        "\n",
        "        for batch in train_dataloader:\n",
        "            X, y = batch\n",
        "            X, y = X.to(device), y.to(device)\n",
        "\n",
        "            optimizer.zero_grad()\n",
        "            y_hat = model(X)\n",
        "            loss = criterion(y_hat, y)\n",
        "            loss.backward()\n",
        "            optimizer.step()\n",
        "            tr_acc = train_metric(y_hat, y)\n",
        "            train_batch_loss.append(loss.item())\n",
        "\n",
        "        tr_acc = train_metric.compute()\n",
        "        train_epoch_loss = np.mean(train_batch_loss)\n",
        "\n",
        "        model.eval()\n",
        "        with torch.no_grad():\n",
        "            for batch in val_dataloader:\n",
        "                X, y = batch\n",
        "                X, y = X.to(device), y.to(device)\n",
        "\n",
        "                y_hat = model(X)\n",
        "                loss = criterion(y_hat, y)\n",
        "                val_acc = val_metric(y_hat, y)\n",
        "                val_batch_loss.append(loss.item())\n",
        "\n",
        "        val_acc = val_metric.compute()\n",
        "        val_epoch_loss = np.mean(val_batch_loss)\n",
        "\n",
        "        end_time = time.time()\n",
        "        elapsed_time = end_time - start_time\n",
        "        print(\n",
        "            f\"Epoch: {e+1}: Time: {elapsed_time:.2f} - Train Loss: {train_epoch_loss:.4f} - Validation Loss: {val_epoch_loss:.4f} - Train F1: {tr_acc:.4f} - Validation F1: {val_acc:.4f}\"\n",
        "        )\n",
        "\n",
        "        train_loss.append(train_epoch_loss)\n",
        "        val_loss.append(val_epoch_loss)\n",
        "\n",
        "        # Checkpointing\n",
        "        if val_epoch_loss < best_val_loss:\n",
        "          best_val_loss = val_epoch_loss\n",
        "          patience_counter = 0\n",
        "          # Guardar el modelo\n",
        "          checkpoint_path = os.path.join(checkpoint_dir, f'checkpoint_epoch_{e}.pth')\n",
        "          torch.save(model.state_dict(), checkpoint_path)\n",
        "          print(f'Model checkpoint saved at epoch {e}')\n",
        "        else:\n",
        "            patience_counter += 1\n",
        "\n",
        "        # Early stopping\n",
        "        if patience_counter >= early_stopping_patience:\n",
        "            print(f'Early stopping triggered at epoch {e-10}. Best validation loss: {best_val_loss:.4f}')\n",
        "            break\n",
        "\n",
        "    return model, train_loss, val_loss"
      ],
      "metadata": {
        "id": "NHcf9Goignoe"
      },
      "execution_count": null,
      "outputs": []
    },
    {
      "cell_type": "code",
      "source": [
        "# Configuración de hiperparámetros de entrenamiento\n",
        "training_params = dict(\n",
        "    learning_rate=3e-4,\n",
        "    batch_size=64,\n",
        "    num_epochs=100,\n",
        ")"
      ],
      "metadata": {
        "id": "vqoMStEugnrx"
      },
      "execution_count": null,
      "outputs": []
    },
    {
      "cell_type": "code",
      "source": [
        "# Entrenar el modelo utilizando la función `train_model`\n",
        "ft_vgg16, train_loss, val_loss = train_model(\n",
        "    train_data,\n",
        "    validation_data,\n",
        "    model=model,\n",
        "    training_params=training_params,\n",
        "    criterion=nn.CrossEntropyLoss(),\n",
        ")"
      ],
      "metadata": {
        "colab": {
          "base_uri": "https://localhost:8080/"
        },
        "id": "3I5e43l2gTL0",
        "outputId": "773a81ed-e03b-42ea-d223-03d889c4eecb"
      },
      "execution_count": null,
      "outputs": [
        {
          "output_type": "stream",
          "name": "stdout",
          "text": [
            "Using device: cuda\n",
            "Epoch: 1: Time: 18.39 - Train Loss: 0.7609 - Validation Loss: 0.2130 - Train F1: 0.7915 - Validation F1: 0.9588\n",
            "Model checkpoint saved at epoch 0\n",
            "Epoch: 2: Time: 19.47 - Train Loss: 0.1312 - Validation Loss: 0.1210 - Train F1: 0.8765 - Validation F1: 0.9607\n",
            "Model checkpoint saved at epoch 1\n",
            "Epoch: 3: Time: 18.65 - Train Loss: 0.0764 - Validation Loss: 0.1044 - Train F1: 0.9126 - Validation F1: 0.9630\n",
            "Model checkpoint saved at epoch 2\n",
            "Epoch: 4: Time: 19.34 - Train Loss: 0.0516 - Validation Loss: 0.1059 - Train F1: 0.9333 - Validation F1: 0.9664\n",
            "Epoch: 5: Time: 17.61 - Train Loss: 0.0317 - Validation Loss: 0.1073 - Train F1: 0.9462 - Validation F1: 0.9647\n",
            "Epoch: 6: Time: 17.99 - Train Loss: 0.0216 - Validation Loss: 0.0919 - Train F1: 0.9552 - Validation F1: 0.9667\n",
            "Model checkpoint saved at epoch 5\n",
            "Epoch: 7: Time: 19.46 - Train Loss: 0.0146 - Validation Loss: 0.0905 - Train F1: 0.9616 - Validation F1: 0.9681\n",
            "Model checkpoint saved at epoch 6\n",
            "Epoch: 8: Time: 19.54 - Train Loss: 0.0113 - Validation Loss: 0.0903 - Train F1: 0.9664 - Validation F1: 0.9692\n",
            "Model checkpoint saved at epoch 7\n",
            "Epoch: 9: Time: 19.85 - Train Loss: 0.0095 - Validation Loss: 0.0916 - Train F1: 0.9701 - Validation F1: 0.9700\n",
            "Epoch: 10: Time: 18.45 - Train Loss: 0.0078 - Validation Loss: 0.0903 - Train F1: 0.9731 - Validation F1: 0.9707\n",
            "Model checkpoint saved at epoch 9\n",
            "Epoch: 11: Time: 19.44 - Train Loss: 0.0069 - Validation Loss: 0.0889 - Train F1: 0.9755 - Validation F1: 0.9713\n",
            "Model checkpoint saved at epoch 10\n",
            "Epoch: 12: Time: 19.43 - Train Loss: 0.0060 - Validation Loss: 0.0904 - Train F1: 0.9776 - Validation F1: 0.9713\n",
            "Epoch: 13: Time: 18.31 - Train Loss: 0.0049 - Validation Loss: 0.0915 - Train F1: 0.9793 - Validation F1: 0.9713\n",
            "Epoch: 14: Time: 18.05 - Train Loss: 0.0044 - Validation Loss: 0.0912 - Train F1: 0.9808 - Validation F1: 0.9714\n",
            "Epoch: 15: Time: 18.24 - Train Loss: 0.0039 - Validation Loss: 0.0916 - Train F1: 0.9820 - Validation F1: 0.9711\n",
            "Epoch: 16: Time: 18.03 - Train Loss: 0.0036 - Validation Loss: 0.0919 - Train F1: 0.9832 - Validation F1: 0.9711\n",
            "Epoch: 17: Time: 18.21 - Train Loss: 0.0033 - Validation Loss: 0.0919 - Train F1: 0.9842 - Validation F1: 0.9712\n",
            "Epoch: 18: Time: 18.07 - Train Loss: 0.0030 - Validation Loss: 0.0927 - Train F1: 0.9850 - Validation F1: 0.9712\n",
            "Epoch: 19: Time: 17.64 - Train Loss: 0.0028 - Validation Loss: 0.0921 - Train F1: 0.9858 - Validation F1: 0.9712\n",
            "Epoch: 20: Time: 17.89 - Train Loss: 0.0025 - Validation Loss: 0.0943 - Train F1: 0.9865 - Validation F1: 0.9713\n",
            "Epoch: 21: Time: 18.29 - Train Loss: 0.0023 - Validation Loss: 0.0944 - Train F1: 0.9872 - Validation F1: 0.9715\n",
            "Early stopping triggered at epoch 10. Best validation loss: 0.0889\n"
          ]
        }
      ]
    },
    {
      "cell_type": "code",
      "source": [
        "# Crear una nueva instancia del modelo con los mismos parámetros que el modelo original\n",
        "best_model = VGG16FeatureExtractor(num_classes=10)\n",
        "checkpoint_path = os.path.join('checkpoints', 'checkpoint_epoch_10.pth')\n",
        "best_model.load_state_dict(torch.load(checkpoint_path,weights_only=True))\n",
        "best_model.to(device)"
      ],
      "metadata": {
        "colab": {
          "base_uri": "https://localhost:8080/"
        },
        "id": "dvxu-QfigTOm",
        "outputId": "2c2aae8d-d031-4166-e031-c4d4534ff61c"
      },
      "execution_count": null,
      "outputs": [
        {
          "output_type": "execute_result",
          "data": {
            "text/plain": [
              "VGG16FeatureExtractor(\n",
              "  (backbone): VGG(\n",
              "    (features): Sequential(\n",
              "      (0): Conv2d(3, 64, kernel_size=(3, 3), stride=(1, 1), padding=(1, 1))\n",
              "      (1): ReLU(inplace=True)\n",
              "      (2): Conv2d(64, 64, kernel_size=(3, 3), stride=(1, 1), padding=(1, 1))\n",
              "      (3): ReLU(inplace=True)\n",
              "      (4): MaxPool2d(kernel_size=2, stride=2, padding=0, dilation=1, ceil_mode=False)\n",
              "      (5): Conv2d(64, 128, kernel_size=(3, 3), stride=(1, 1), padding=(1, 1))\n",
              "      (6): ReLU(inplace=True)\n",
              "      (7): Conv2d(128, 128, kernel_size=(3, 3), stride=(1, 1), padding=(1, 1))\n",
              "      (8): ReLU(inplace=True)\n",
              "      (9): MaxPool2d(kernel_size=2, stride=2, padding=0, dilation=1, ceil_mode=False)\n",
              "      (10): Conv2d(128, 256, kernel_size=(3, 3), stride=(1, 1), padding=(1, 1))\n",
              "      (11): ReLU(inplace=True)\n",
              "      (12): Conv2d(256, 256, kernel_size=(3, 3), stride=(1, 1), padding=(1, 1))\n",
              "      (13): ReLU(inplace=True)\n",
              "      (14): Conv2d(256, 256, kernel_size=(3, 3), stride=(1, 1), padding=(1, 1))\n",
              "      (15): ReLU(inplace=True)\n",
              "      (16): MaxPool2d(kernel_size=2, stride=2, padding=0, dilation=1, ceil_mode=False)\n",
              "      (17): Conv2d(256, 512, kernel_size=(3, 3), stride=(1, 1), padding=(1, 1))\n",
              "      (18): ReLU(inplace=True)\n",
              "      (19): Conv2d(512, 512, kernel_size=(3, 3), stride=(1, 1), padding=(1, 1))\n",
              "      (20): ReLU(inplace=True)\n",
              "      (21): Conv2d(512, 512, kernel_size=(3, 3), stride=(1, 1), padding=(1, 1))\n",
              "      (22): ReLU(inplace=True)\n",
              "      (23): MaxPool2d(kernel_size=2, stride=2, padding=0, dilation=1, ceil_mode=False)\n",
              "      (24): Conv2d(512, 512, kernel_size=(3, 3), stride=(1, 1), padding=(1, 1))\n",
              "      (25): ReLU(inplace=True)\n",
              "      (26): Conv2d(512, 512, kernel_size=(3, 3), stride=(1, 1), padding=(1, 1))\n",
              "      (27): ReLU(inplace=True)\n",
              "      (28): Conv2d(512, 512, kernel_size=(3, 3), stride=(1, 1), padding=(1, 1))\n",
              "      (29): ReLU(inplace=True)\n",
              "      (30): MaxPool2d(kernel_size=2, stride=2, padding=0, dilation=1, ceil_mode=False)\n",
              "    )\n",
              "    (pre_logits): ConvMlp(\n",
              "      (fc1): Conv2d(512, 4096, kernel_size=(7, 7), stride=(1, 1))\n",
              "      (act1): ReLU(inplace=True)\n",
              "      (drop): Dropout(p=0.0, inplace=False)\n",
              "      (fc2): Conv2d(4096, 4096, kernel_size=(1, 1), stride=(1, 1))\n",
              "      (act2): ReLU(inplace=True)\n",
              "    )\n",
              "    (head): ClassifierHead(\n",
              "      (global_pool): SelectAdaptivePool2d(pool_type=avg, flatten=Flatten(start_dim=1, end_dim=-1))\n",
              "      (drop): Dropout(p=0.0, inplace=False)\n",
              "      (fc): Identity()\n",
              "      (flatten): Identity()\n",
              "    )\n",
              "  )\n",
              "  (fc_layers): Sequential(\n",
              "    (0): LazyLinear(in_features=0, out_features=512, bias=True)\n",
              "    (1): Linear(in_features=512, out_features=10, bias=True)\n",
              "  )\n",
              ")"
            ]
          },
          "metadata": {},
          "execution_count": 19
        }
      ]
    },
    {
      "cell_type": "code",
      "source": [
        "def testing(model_input, data_eva):\n",
        "    # Cambiar el modelo al modo de evaluación\n",
        "    model_input.eval()\n",
        "\n",
        "    # Inicializar el cálculo de F1-score\n",
        "    f1_metric = torchmetrics.F1Score(task=\"multiclass\", num_classes=10, average=\"macro\").to(device)\n",
        "    data_eva = DataLoader(data_eva,batch_size=training_params[\"batch_size\"],shuffle=False,num_workers=2,pin_memory=True,)\n",
        "    criterion=nn.CrossEntropyLoss()\n",
        "    # Desactivar el cálculo de gradientes ya que no necesitamos backpropagation\n",
        "    with torch.no_grad():\n",
        "        test_loss = []\n",
        "        total_samples = 0\n",
        "\n",
        "        # Iterar sobre el conjunto de datos de test\n",
        "        for batch in data_eva:\n",
        "            # Mover los datos al dispositivo adecuado (CPU o GPU)\n",
        "            features, target = batch[0].to(device), batch[1].to(device)\n",
        "\n",
        "            # Hacer predicciones con el modelo\n",
        "            output = model_input(features)\n",
        "            loss = criterion(output, target.squeeze())  # Asegurarse de que las dimensiones coincidan\n",
        "            test_loss.append(loss.item())\n",
        "\n",
        "            # Convertir las predicciones a clases con la probabilidad máxima\n",
        "            preds = torch.argmax(output, dim=1)\n",
        "\n",
        "            # Actualizar el cálculo del F1-score\n",
        "            f1_metric.update(preds, target)\n",
        "\n",
        "    # Calcular el F1-score final\n",
        "    f1_score = f1_metric.compute().item()\n",
        "\n",
        "    print(f'F1-score: {f1_score:.5f}')"
      ],
      "metadata": {
        "id": "T1kkpHYhisOu"
      },
      "execution_count": null,
      "outputs": []
    },
    {
      "cell_type": "code",
      "source": [
        "testing(model,test_data)"
      ],
      "metadata": {
        "colab": {
          "base_uri": "https://localhost:8080/"
        },
        "id": "01a53LkzisSG",
        "outputId": "f718b9ab-b962-439d-908b-a3c033cdd711"
      },
      "execution_count": null,
      "outputs": [
        {
          "output_type": "stream",
          "name": "stdout",
          "text": [
            "F1-score: 0.95980\n"
          ]
        }
      ]
    },
    {
      "cell_type": "code",
      "source": [
        "def ploting(train_loss,val_loss):\n",
        "  plt.plot(range(len(train_loss)),train_loss,color='blue',label='Train')\n",
        "  plt.plot(range(len(val_loss)), val_loss,color='red',label='Val')\n",
        "  plt.legend(title = \"Loss\")"
      ],
      "metadata": {
        "id": "xuNu3CLZisVf"
      },
      "execution_count": null,
      "outputs": []
    },
    {
      "cell_type": "code",
      "source": [
        "ploting(train_loss,val_loss)"
      ],
      "metadata": {
        "colab": {
          "base_uri": "https://localhost:8080/",
          "height": 430
        },
        "id": "QKX-PUhCi06_",
        "outputId": "d230a99e-8d2c-47ac-df41-8ec6a2de065d"
      },
      "execution_count": null,
      "outputs": [
        {
          "output_type": "display_data",
          "data": {
            "text/plain": [
              "<Figure size 640x480 with 1 Axes>"
            ],
            "image/png": "[encoded data removed]"
          },
          "metadata": {}
        }
      ]
    },
    {
      "cell_type": "code",
      "source": [],
      "metadata": {
        "id": "M0In8Di-i0-j"
      },
      "execution_count": null,
      "outputs": []
    },
    {
      "cell_type": "code",
      "source": [],
      "metadata": {
        "id": "hudPRjT1i1CT"
      },
      "execution_count": null,
      "outputs": []
    },
    {
      "cell_type": "code",
      "source": [],
      "metadata": {
        "id": "zhckYTPhgTRS"
      },
      "execution_count": null,
      "outputs": []
    }
  ]
}